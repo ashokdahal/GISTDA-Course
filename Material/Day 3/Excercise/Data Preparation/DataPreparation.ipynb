{
  "cells": [
    {
      "cell_type": "code",
      "execution_count": 1,
      "metadata": {
        "id": "fzI1MVei0sXI"
      },
      "outputs": [
        {
          "name": "stdout",
          "output_type": "stream",
          "text": [
            "--2024-07-11 12:31:35--  https://huggingface.co/datasets/S1Floodbenchmark/UrbanSARFloods_v1/resolve/main/testing_case_orig/20210727_Weihui/20210727_Weihui_GT.tif?download=true\n",
            "Resolving huggingface.co (huggingface.co)... 18.239.50.49, 18.239.50.103, 18.239.50.16, ...\n",
            "Connecting to huggingface.co (huggingface.co)|18.239.50.49|:443... connected.\n",
            "HTTP request sent, awaiting response... 302 Found\n",
            "Location: https://cdn-lfs-us-1.huggingface.co/repos/d2/ae/d2ae1380a7757aa9fc7e19cfaf6b9b4af5b653f41a1b743048002168c204f8d7/7f57c46dfe7aed68f6a85862faf7bbc8e1c9fd78f56de6aadb7565de3745172f?response-content-disposition=attachment%3B+filename*%3DUTF-8%27%2720210727_Weihui_GT.tif%3B+filename%3D%2220210727_Weihui_GT.tif%22%3B&response-content-type=image%2Ftiff&Expires=1720953095&Policy=eyJTdGF0ZW1lbnQiOlt7IkNvbmRpdGlvbiI6eyJEYXRlTGVzc1RoYW4iOnsiQVdTOkVwb2NoVGltZSI6MTcyMDk1MzA5NX19LCJSZXNvdXJjZSI6Imh0dHBzOi8vY2RuLWxmcy11cy0xLmh1Z2dpbmdmYWNlLmNvL3JlcG9zL2QyL2FlL2QyYWUxMzgwYTc3NTdhYTlmYzdlMTljZmFmNmI5YjRhZjViNjUzZjQxYTFiNzQzMDQ4MDAyMTY4YzIwNGY4ZDcvN2Y1N2M0NmRmZTdhZWQ2OGY2YTg1ODYyZmFmN2JiYzhlMWM5ZmQ3OGY1NmRlNmFhZGI3NTY1ZGUzNzQ1MTcyZj9yZXNwb25zZS1jb250ZW50LWRpc3Bvc2l0aW9uPSomcmVzcG9uc2UtY29udGVudC10eXBlPSoifV19&Signature=TIgs2W6Qqd7OWyLmMUvvldsE3VfhlUwfzGFhiCsF2RRCG65tVre3LKgwtCnU29vOtKSWDkD5VsZKnIcHHTwtR7ntmlwYBKuYT-1u9a-QMMPS-%7EqFvGX5CVBi93WKaaBWJYxuh%7EdaMcwk3dFHngvlK1EdGyuISSYsMv2B1DNBHWMjNFEItLsZEXbuAoSdBlLD9uhqAFdDYwhsF8ADk-kKG0R1lC813apjV%7EfG9XQU%7E3WEZwRko3jv%7EjOGPLpM9x5QKECs5UJMR8LxcnvYSOB7CPYTnQE5ZOYCpypKQ0KCoZ8VR6H5hQ1BaxdBpleTU-hlGa67al194iEMY1zDfONbJg__&Key-Pair-Id=K24J24Z295AEI9 [following]\n",
            "--2024-07-11 12:31:35--  https://cdn-lfs-us-1.huggingface.co/repos/d2/ae/d2ae1380a7757aa9fc7e19cfaf6b9b4af5b653f41a1b743048002168c204f8d7/7f57c46dfe7aed68f6a85862faf7bbc8e1c9fd78f56de6aadb7565de3745172f?response-content-disposition=attachment%3B+filename*%3DUTF-8%27%2720210727_Weihui_GT.tif%3B+filename%3D%2220210727_Weihui_GT.tif%22%3B&response-content-type=image%2Ftiff&Expires=1720953095&Policy=eyJTdGF0ZW1lbnQiOlt7IkNvbmRpdGlvbiI6eyJEYXRlTGVzc1RoYW4iOnsiQVdTOkVwb2NoVGltZSI6MTcyMDk1MzA5NX19LCJSZXNvdXJjZSI6Imh0dHBzOi8vY2RuLWxmcy11cy0xLmh1Z2dpbmdmYWNlLmNvL3JlcG9zL2QyL2FlL2QyYWUxMzgwYTc3NTdhYTlmYzdlMTljZmFmNmI5YjRhZjViNjUzZjQxYTFiNzQzMDQ4MDAyMTY4YzIwNGY4ZDcvN2Y1N2M0NmRmZTdhZWQ2OGY2YTg1ODYyZmFmN2JiYzhlMWM5ZmQ3OGY1NmRlNmFhZGI3NTY1ZGUzNzQ1MTcyZj9yZXNwb25zZS1jb250ZW50LWRpc3Bvc2l0aW9uPSomcmVzcG9uc2UtY29udGVudC10eXBlPSoifV19&Signature=TIgs2W6Qqd7OWyLmMUvvldsE3VfhlUwfzGFhiCsF2RRCG65tVre3LKgwtCnU29vOtKSWDkD5VsZKnIcHHTwtR7ntmlwYBKuYT-1u9a-QMMPS-%7EqFvGX5CVBi93WKaaBWJYxuh%7EdaMcwk3dFHngvlK1EdGyuISSYsMv2B1DNBHWMjNFEItLsZEXbuAoSdBlLD9uhqAFdDYwhsF8ADk-kKG0R1lC813apjV%7EfG9XQU%7E3WEZwRko3jv%7EjOGPLpM9x5QKECs5UJMR8LxcnvYSOB7CPYTnQE5ZOYCpypKQ0KCoZ8VR6H5hQ1BaxdBpleTU-hlGa67al194iEMY1zDfONbJg__&Key-Pair-Id=K24J24Z295AEI9\n",
            "Resolving cdn-lfs-us-1.huggingface.co (cdn-lfs-us-1.huggingface.co)... 18.239.94.84, 18.239.94.40, 18.239.94.3, ...\n",
            "Connecting to cdn-lfs-us-1.huggingface.co (cdn-lfs-us-1.huggingface.co)|18.239.94.84|:443... connected.\n",
            "HTTP request sent, awaiting response... 200 OK\n",
            "Length: 927142786 (884M) [image/tiff]\n",
            "Saving to: ‘Dataset/GT.tif’\n",
            "\n",
            "Dataset/GT.tif      100%[===================>] 884.19M   229MB/s    in 4.0s    \n",
            "\n",
            "2024-07-11 12:31:40 (220 MB/s) - ‘Dataset/GT.tif’ saved [927142786/927142786]\n",
            "\n"
          ]
        }
      ],
      "source": [
        "# Download Ground Truth\n",
        "!mkdir Dataset\n",
        "!wget  https://huggingface.co/datasets/S1Floodbenchmark/UrbanSARFloods_v1/resolve/main/testing_case_orig/20210727_Weihui/20210727_Weihui_GT.tif?download=true  -O Dataset/GT.tif"
      ]
    },
    {
      "cell_type": "code",
      "execution_count": 2,
      "metadata": {
        "id": "64AkFFAY0wug"
      },
      "outputs": [
        {
          "name": "stdout",
          "output_type": "stream",
          "text": [
            "--2024-07-11 12:31:41--  https://huggingface.co/datasets/S1Floodbenchmark/UrbanSARFloods_v1/resolve/main/testing_case_orig/20210727_Weihui/20210727_Weihui_SAR.tif?download=true\n",
            "Resolving huggingface.co (huggingface.co)... 18.239.50.80, 18.239.50.16, 18.239.50.103, ...\n",
            "Connecting to huggingface.co (huggingface.co)|18.239.50.80|:443... connected.\n",
            "HTTP request sent, awaiting response... 302 Found\n",
            "Location: https://cdn-lfs-us-1.huggingface.co/repos/d2/ae/d2ae1380a7757aa9fc7e19cfaf6b9b4af5b653f41a1b743048002168c204f8d7/366945c6a865bf9a11863cf20ab2f445d7e596d91889b26c66a47addcbc82a39?response-content-disposition=attachment%3B+filename*%3DUTF-8%27%2720210727_Weihui_SAR.tif%3B+filename%3D%2220210727_Weihui_SAR.tif%22%3B&response-content-type=image%2Ftiff&Expires=1720953101&Policy=eyJTdGF0ZW1lbnQiOlt7IkNvbmRpdGlvbiI6eyJEYXRlTGVzc1RoYW4iOnsiQVdTOkVwb2NoVGltZSI6MTcyMDk1MzEwMX19LCJSZXNvdXJjZSI6Imh0dHBzOi8vY2RuLWxmcy11cy0xLmh1Z2dpbmdmYWNlLmNvL3JlcG9zL2QyL2FlL2QyYWUxMzgwYTc3NTdhYTlmYzdlMTljZmFmNmI5YjRhZjViNjUzZjQxYTFiNzQzMDQ4MDAyMTY4YzIwNGY4ZDcvMzY2OTQ1YzZhODY1YmY5YTExODYzY2YyMGFiMmY0NDVkN2U1OTZkOTE4ODliMjZjNjZhNDdhZGRjYmM4MmEzOT9yZXNwb25zZS1jb250ZW50LWRpc3Bvc2l0aW9uPSomcmVzcG9uc2UtY29udGVudC10eXBlPSoifV19&Signature=Bx1yrqFsJZ2ekb1Q0ymdaNuc5zI1xZMQT-04iu2xSa1%7EiTMJxXyjL5QwpBfsL1jGG1miBVFeyQfN4SNOer8yxsKVBQl58zDTMMIXDSd42Z3YH6XA5dO9TJrXY5GgdEnQCEYXRlE1whXmh4PuJPgDbjJeZe5Nm-aUziOyZRstuOsJhQGHy0e9rjPMrFX6QZV5XuLXbmBEvnZXYMVLmeTV0UhG77IyMZvjVDvyaKISk4BsVJTUqFhVzbUXiEPpTr1AptCkiH%7EjsYEAbIggbYBaheFdw6-Qs3ghKFVhkR1nWz2KtdMf58cxEGjBQACZzM4O8CFkc04-ZhY6Exa%7E8aqUcg__&Key-Pair-Id=K24J24Z295AEI9 [following]\n",
            "--2024-07-11 12:31:41--  https://cdn-lfs-us-1.huggingface.co/repos/d2/ae/d2ae1380a7757aa9fc7e19cfaf6b9b4af5b653f41a1b743048002168c204f8d7/366945c6a865bf9a11863cf20ab2f445d7e596d91889b26c66a47addcbc82a39?response-content-disposition=attachment%3B+filename*%3DUTF-8%27%2720210727_Weihui_SAR.tif%3B+filename%3D%2220210727_Weihui_SAR.tif%22%3B&response-content-type=image%2Ftiff&Expires=1720953101&Policy=eyJTdGF0ZW1lbnQiOlt7IkNvbmRpdGlvbiI6eyJEYXRlTGVzc1RoYW4iOnsiQVdTOkVwb2NoVGltZSI6MTcyMDk1MzEwMX19LCJSZXNvdXJjZSI6Imh0dHBzOi8vY2RuLWxmcy11cy0xLmh1Z2dpbmdmYWNlLmNvL3JlcG9zL2QyL2FlL2QyYWUxMzgwYTc3NTdhYTlmYzdlMTljZmFmNmI5YjRhZjViNjUzZjQxYTFiNzQzMDQ4MDAyMTY4YzIwNGY4ZDcvMzY2OTQ1YzZhODY1YmY5YTExODYzY2YyMGFiMmY0NDVkN2U1OTZkOTE4ODliMjZjNjZhNDdhZGRjYmM4MmEzOT9yZXNwb25zZS1jb250ZW50LWRpc3Bvc2l0aW9uPSomcmVzcG9uc2UtY29udGVudC10eXBlPSoifV19&Signature=Bx1yrqFsJZ2ekb1Q0ymdaNuc5zI1xZMQT-04iu2xSa1%7EiTMJxXyjL5QwpBfsL1jGG1miBVFeyQfN4SNOer8yxsKVBQl58zDTMMIXDSd42Z3YH6XA5dO9TJrXY5GgdEnQCEYXRlE1whXmh4PuJPgDbjJeZe5Nm-aUziOyZRstuOsJhQGHy0e9rjPMrFX6QZV5XuLXbmBEvnZXYMVLmeTV0UhG77IyMZvjVDvyaKISk4BsVJTUqFhVzbUXiEPpTr1AptCkiH%7EjsYEAbIggbYBaheFdw6-Qs3ghKFVhkR1nWz2KtdMf58cxEGjBQACZzM4O8CFkc04-ZhY6Exa%7E8aqUcg__&Key-Pair-Id=K24J24Z295AEI9\n",
            "Resolving cdn-lfs-us-1.huggingface.co (cdn-lfs-us-1.huggingface.co)... 18.239.94.84, 18.239.94.40, 18.239.94.3, ...\n",
            "Connecting to cdn-lfs-us-1.huggingface.co (cdn-lfs-us-1.huggingface.co)|18.239.94.84|:443... connected.\n",
            "HTTP request sent, awaiting response... 200 OK\n",
            "Length: 7416503226 (6.9G) [image/tiff]\n",
            "Saving to: ‘Dataset/Image.tif’\n",
            "\n",
            "Dataset/Image.tif   100%[===================>]   6.91G   240MB/s    in 33s     \n",
            "\n",
            "2024-07-11 12:32:14 (215 MB/s) - ‘Dataset/Image.tif’ saved [7416503226/7416503226]\n",
            "\n"
          ]
        }
      ],
      "source": [
        "# Download Satellite Image\n",
        "!wget  https://huggingface.co/datasets/S1Floodbenchmark/UrbanSARFloods_v1/resolve/main/testing_case_orig/20210727_Weihui/20210727_Weihui_SAR.tif?download=true  -O Dataset/Image.tif"
      ]
    },
    {
      "cell_type": "code",
      "execution_count": 4,
      "metadata": {
        "id": "Fqq7SXyE0zZS"
      },
      "outputs": [
        {
          "name": "stdout",
          "output_type": "stream",
          "text": [
            "Downloading...\n",
            "From (original): https://drive.google.com/uc?id=1-8lL4DW6l8dgPVFyRgAGFnqiwXCCNR_T\n",
            "From (redirected): https://drive.google.com/uc?id=1-8lL4DW6l8dgPVFyRgAGFnqiwXCCNR_T&confirm=t&uuid=1fb46786-81e0-404d-81e5-a4a757c51032\n",
            "To: /data/volume_2/GISTDA-Course/Material/Day 3/Excercise/Data Preparation/Dataset/FastFlood.tif\n",
            "100%|█████████████████████████████████████████| 927M/927M [00:05<00:00, 177MB/s]\n"
          ]
        }
      ],
      "source": [
        "# Upload Fastflood Flood Height in your google drive and download it in current directory (OR JUST UPLOAD MANUALLY)\n",
        "!gdown --fuzzy https://drive.google.com/file/d/1-8lL4DW6l8dgPVFyRgAGFnqiwXCCNR_T/view?usp=drive_link -O Dataset/FastFlood.tif"
      ]
    },
    {
      "cell_type": "code",
      "execution_count": 5,
      "metadata": {
        "colab": {
          "base_uri": "https://localhost:8080/"
        },
        "id": "aJgtD1g_1kfQ",
        "outputId": "dad5c346-57e3-4bde-872b-31ada8caaa16"
      },
      "outputs": [
        {
          "name": "stdout",
          "output_type": "stream",
          "text": [
            "Requirement already satisfied: rasterio in /home/adahal/miniconda3/envs/dlgeo/lib/python3.10/site-packages (1.3.9)\n",
            "Requirement already satisfied: affine in /home/adahal/miniconda3/envs/dlgeo/lib/python3.10/site-packages (from rasterio) (2.4.0)\n",
            "Requirement already satisfied: attrs in /home/adahal/miniconda3/envs/dlgeo/lib/python3.10/site-packages (from rasterio) (23.1.0)\n",
            "Requirement already satisfied: certifi in /home/adahal/miniconda3/envs/dlgeo/lib/python3.10/site-packages (from rasterio) (2023.11.17)\n",
            "Requirement already satisfied: click>=4.0 in /home/adahal/miniconda3/envs/dlgeo/lib/python3.10/site-packages (from rasterio) (8.1.7)\n",
            "Requirement already satisfied: cligj>=0.5 in /home/adahal/miniconda3/envs/dlgeo/lib/python3.10/site-packages (from rasterio) (0.7.2)\n",
            "Requirement already satisfied: numpy in /home/adahal/miniconda3/envs/dlgeo/lib/python3.10/site-packages (from rasterio) (1.26.2)\n",
            "Requirement already satisfied: snuggs>=1.4.1 in /home/adahal/miniconda3/envs/dlgeo/lib/python3.10/site-packages (from rasterio) (1.4.7)\n",
            "Requirement already satisfied: click-plugins in /home/adahal/miniconda3/envs/dlgeo/lib/python3.10/site-packages (from rasterio) (1.1.1)\n",
            "Requirement already satisfied: setuptools in /home/adahal/miniconda3/envs/dlgeo/lib/python3.10/site-packages (from rasterio) (68.0.0)\n",
            "Requirement already satisfied: pyparsing>=2.1.6 in /home/adahal/miniconda3/envs/dlgeo/lib/python3.10/site-packages (from snuggs>=1.4.1->rasterio) (3.1.1)\n"
          ]
        }
      ],
      "source": [
        "# Install required Libraries\n",
        "!pip install rasterio"
      ]
    },
    {
      "cell_type": "code",
      "execution_count": 7,
      "metadata": {
        "id": "exU8qpT60lI8"
      },
      "outputs": [],
      "source": [
        "import rasterio\n",
        "import numpy as np\n",
        "import os\n",
        "import geopandas as gpd\n",
        "from tqdm.notebook import tqdm"
      ]
    },
    {
      "cell_type": "code",
      "execution_count": 8,
      "metadata": {
        "colab": {
          "base_uri": "https://localhost:8080/",
          "height": 67,
          "referenced_widgets": [
            "ac9ca65cf8d644b2b867a6c175a1947b",
            "73f05c40b6c44858a35d8884031c664e",
            "6075554469b94863b58e7dc890fa5e3a",
            "d181486edf064a1b85530bdfe199b0b2",
            "8c7a9995de214ef39d04a85059543261",
            "5fcac8171c9642c0bf8931bf9aa7214d",
            "eafedcea81ba451687176aa6c973cf6c",
            "6e81d9b7321243618f3ba4f65fcb4830",
            "2a92e39180e34fe6b2cfcaa4f5cfc14c",
            "70fc54f08cd24a8aad2e0e2971aafd13",
            "0d5ad807bbc44252859c6a7caaab14e5"
          ]
        },
        "id": "kmrMwdgp4_kd",
        "outputId": "e4402329-b007-4501-d9f3-441691efc2d7"
      },
      "outputs": [
        {
          "name": "stdout",
          "output_type": "stream",
          "text": [
            "Nodata values for sat, gt, ff (None, None, -3.4028234663852886e+38)\n"
          ]
        },
        {
          "data": {
            "application/vnd.jupyter.widget-view+json": {
              "model_id": "ad50c86ef1744d6fa46ace48e1984689",
              "version_major": 2,
              "version_minor": 0
            },
            "text/plain": [
              "  0%|          | 0/73 [00:00<?, ?it/s]"
            ]
          },
          "metadata": {},
          "output_type": "display_data"
        }
      ],
      "source": [
        "def create_image_patches(sat_image_path, gt_image_path, ff_image_path, patch_size=128, output_dir=\"Dataset/Patches\"):\n",
        "    counter = 0\n",
        "    # Open the satellite image and ground truth image\n",
        "    with rasterio.open(sat_image_path, nodata=np.nan) as sat_image, rasterio.open(gt_image_path) as gt_image, rasterio.open(ff_image_path) as ff_image:\n",
        "        # Check if dimensions match\n",
        "        assert sat_image.width == gt_image.width and sat_image.height == gt_image.height, \"Image dimensions do not match between satellite image and ground truth\"\n",
        "        assert sat_image.width == ff_image.width and sat_image.height == ff_image.height, \"Image dimensions do not match between satellite image and fast flood image\"\n",
        "\n",
        "        # Get the nodata values\n",
        "        sat_nodata = sat_image.nodata\n",
        "        gt_nodata = gt_image.nodata\n",
        "        ff_nodata = ff_image.nodata\n",
        "        print(f\"Nodata values for sat, gt, ff {sat_nodata,gt_nodata,ff_nodata}\")\n",
        "        # Determine the number of patches in x and y direction\n",
        "        width, height = sat_image.width, sat_image.height\n",
        "        n_patches_x = width // patch_size\n",
        "        n_patches_y = height // patch_size\n",
        "\n",
        "        for i in tqdm(range(n_patches_x)):\n",
        "            for j in range(n_patches_y):\n",
        "                # Calculate window position\n",
        "                window = rasterio.windows.Window(i * patch_size, j * patch_size, patch_size, patch_size)\n",
        "\n",
        "                # Read the corresponding patches\n",
        "                sat_patch = sat_image.read(window=window)\n",
        "                gt_patch = gt_image.read(window=window)\n",
        "                ff_patch = ff_image.read(window=window)\n",
        "\n",
        "                # Stack patches to ensure both patches have the same dimensions\n",
        "                assert sat_patch.shape[1:] == gt_patch.shape[1:], \"Patch dimensions do not match\"\n",
        "                assert sat_patch.shape[1:] == ff_patch.shape[1:], \"Patch dimensions do not match\"\n",
        "\n",
        "                # if any of the image has nodata skip that patch\n",
        "                if np.any(np.isnan(sat_patch)) or np.any(sat_patch == sat_nodata) or np.all(sat_patch == 0.0):\n",
        "                    continue  # Skip this patch if any pixel has nodata value in satellite image\n",
        "                if np.any(np.isnan(gt_patch)) or np.any(gt_patch == gt_nodata):\n",
        "                    continue  # Skip this patch if any pixel has nodata value in ground truth image\n",
        "                if np.any(np.isnan(ff_patch)) or np.any(ff_patch == gt_nodata):\n",
        "                    continue  # Skip this patch if any pixel has nodata value in ground truth image\n",
        "\n",
        "                #combine ff patch with sat patch\n",
        "                Xdata_patch = np.vstack([sat_patch,ff_patch])\n",
        "                Ydata_patch = gt_patch\n",
        "                Ydata_patch[Ydata_patch==2.0] = 1.0\n",
        "\n",
        "                if Xdata_patch.shape[-1]!=patch_size or Xdata_patch.shape[-2]!=patch_size:\n",
        "                    continue  # Skip this patch if size does not match\n",
        "\n",
        "                if Ydata_patch.shape[-1]!=patch_size or Ydata_patch.shape[-2]!=patch_size:\n",
        "                    continue  # Skip this patch if size does not match\n",
        "\n",
        "                Xdata_patch = np.expand_dims(Xdata_patch,axis=0)\n",
        "                Ydata_patch = np.expand_dims(Ydata_patch,axis=0)\n",
        "                try:\n",
        "                  if counter == 0:\n",
        "                    Xdata = Xdata_patch\n",
        "                    Ydata = Ydata_patch\n",
        "\n",
        "                  else:\n",
        "                    Xdata = np.vstack([Xdata,Xdata_patch])\n",
        "                    Ydata = np.vstack([Ydata,Ydata_patch])\n",
        "                except:\n",
        "                  print(Xdata.shape, Xdata_patch.shape)\n",
        "                  print(Ydata.shape, Ydata_patch.shape)\n",
        "\n",
        "                counter += 1\n",
        "\n",
        "\n",
        "    np.save(os.path.join(output_dir, f'Xdata.npy'), Xdata)\n",
        "    np.save(os.path.join(output_dir, f'Ydata.npy'), Ydata)\n",
        "    print(f\" {counter} Number of patches are created and saved in the directory\")\n",
        "\n",
        "# Example usage\n",
        "sat_image_path = 'Dataset/Image.tif'\n",
        "gt_image_path = 'Dataset/GT.tif'\n",
        "ff_image_path = 'Dataset/FastFlood.tif'\n",
        "patch_size = 256  # Size of the patches (n x n)\n",
        "output_dir = 'Dataset'\n",
        "\n",
        "# Ensure the output directory exists\n",
        "os.makedirs(output_dir, exist_ok=True)\n",
        "sat_patch,gt_patch,ff_patch = create_image_patches(sat_image_path, gt_image_path,ff_image_path, patch_size, output_dir)\n"
      ]
    },
    {
      "cell_type": "code",
      "execution_count": null,
      "metadata": {
        "id": "Y2A1H83JEaB9"
      },
      "outputs": [],
      "source": []
    }
  ],
  "metadata": {
    "colab": {
      "provenance": []
    },
    "kernelspec": {
      "display_name": "PInSAR",
      "language": "python",
      "name": "python3"
    },
    "language_info": {
      "codemirror_mode": {
        "name": "ipython",
        "version": 3
      },
      "file_extension": ".py",
      "mimetype": "text/x-python",
      "name": "python",
      "nbconvert_exporter": "python",
      "pygments_lexer": "ipython3",
      "version": "3.10.0"
    },
    "widgets": {
      "application/vnd.jupyter.widget-state+json": {
        "0d5ad807bbc44252859c6a7caaab14e5": {
          "model_module": "@jupyter-widgets/controls",
          "model_module_version": "1.5.0",
          "model_name": "DescriptionStyleModel",
          "state": {
            "_model_module": "@jupyter-widgets/controls",
            "_model_module_version": "1.5.0",
            "_model_name": "DescriptionStyleModel",
            "_view_count": null,
            "_view_module": "@jupyter-widgets/base",
            "_view_module_version": "1.2.0",
            "_view_name": "StyleView",
            "description_width": ""
          }
        },
        "2a92e39180e34fe6b2cfcaa4f5cfc14c": {
          "model_module": "@jupyter-widgets/controls",
          "model_module_version": "1.5.0",
          "model_name": "ProgressStyleModel",
          "state": {
            "_model_module": "@jupyter-widgets/controls",
            "_model_module_version": "1.5.0",
            "_model_name": "ProgressStyleModel",
            "_view_count": null,
            "_view_module": "@jupyter-widgets/base",
            "_view_module_version": "1.2.0",
            "_view_name": "StyleView",
            "bar_color": null,
            "description_width": ""
          }
        },
        "5fcac8171c9642c0bf8931bf9aa7214d": {
          "model_module": "@jupyter-widgets/base",
          "model_module_version": "1.2.0",
          "model_name": "LayoutModel",
          "state": {
            "_model_module": "@jupyter-widgets/base",
            "_model_module_version": "1.2.0",
            "_model_name": "LayoutModel",
            "_view_count": null,
            "_view_module": "@jupyter-widgets/base",
            "_view_module_version": "1.2.0",
            "_view_name": "LayoutView",
            "align_content": null,
            "align_items": null,
            "align_self": null,
            "border": null,
            "bottom": null,
            "display": null,
            "flex": null,
            "flex_flow": null,
            "grid_area": null,
            "grid_auto_columns": null,
            "grid_auto_flow": null,
            "grid_auto_rows": null,
            "grid_column": null,
            "grid_gap": null,
            "grid_row": null,
            "grid_template_areas": null,
            "grid_template_columns": null,
            "grid_template_rows": null,
            "height": null,
            "justify_content": null,
            "justify_items": null,
            "left": null,
            "margin": null,
            "max_height": null,
            "max_width": null,
            "min_height": null,
            "min_width": null,
            "object_fit": null,
            "object_position": null,
            "order": null,
            "overflow": null,
            "overflow_x": null,
            "overflow_y": null,
            "padding": null,
            "right": null,
            "top": null,
            "visibility": null,
            "width": null
          }
        },
        "6075554469b94863b58e7dc890fa5e3a": {
          "model_module": "@jupyter-widgets/controls",
          "model_module_version": "1.5.0",
          "model_name": "FloatProgressModel",
          "state": {
            "_dom_classes": [],
            "_model_module": "@jupyter-widgets/controls",
            "_model_module_version": "1.5.0",
            "_model_name": "FloatProgressModel",
            "_view_count": null,
            "_view_module": "@jupyter-widgets/controls",
            "_view_module_version": "1.5.0",
            "_view_name": "ProgressView",
            "bar_style": "",
            "description": "",
            "description_tooltip": null,
            "layout": "IPY_MODEL_6e81d9b7321243618f3ba4f65fcb4830",
            "max": 36,
            "min": 0,
            "orientation": "horizontal",
            "style": "IPY_MODEL_2a92e39180e34fe6b2cfcaa4f5cfc14c",
            "value": 35
          }
        },
        "6e81d9b7321243618f3ba4f65fcb4830": {
          "model_module": "@jupyter-widgets/base",
          "model_module_version": "1.2.0",
          "model_name": "LayoutModel",
          "state": {
            "_model_module": "@jupyter-widgets/base",
            "_model_module_version": "1.2.0",
            "_model_name": "LayoutModel",
            "_view_count": null,
            "_view_module": "@jupyter-widgets/base",
            "_view_module_version": "1.2.0",
            "_view_name": "LayoutView",
            "align_content": null,
            "align_items": null,
            "align_self": null,
            "border": null,
            "bottom": null,
            "display": null,
            "flex": null,
            "flex_flow": null,
            "grid_area": null,
            "grid_auto_columns": null,
            "grid_auto_flow": null,
            "grid_auto_rows": null,
            "grid_column": null,
            "grid_gap": null,
            "grid_row": null,
            "grid_template_areas": null,
            "grid_template_columns": null,
            "grid_template_rows": null,
            "height": null,
            "justify_content": null,
            "justify_items": null,
            "left": null,
            "margin": null,
            "max_height": null,
            "max_width": null,
            "min_height": null,
            "min_width": null,
            "object_fit": null,
            "object_position": null,
            "order": null,
            "overflow": null,
            "overflow_x": null,
            "overflow_y": null,
            "padding": null,
            "right": null,
            "top": null,
            "visibility": null,
            "width": null
          }
        },
        "70fc54f08cd24a8aad2e0e2971aafd13": {
          "model_module": "@jupyter-widgets/base",
          "model_module_version": "1.2.0",
          "model_name": "LayoutModel",
          "state": {
            "_model_module": "@jupyter-widgets/base",
            "_model_module_version": "1.2.0",
            "_model_name": "LayoutModel",
            "_view_count": null,
            "_view_module": "@jupyter-widgets/base",
            "_view_module_version": "1.2.0",
            "_view_name": "LayoutView",
            "align_content": null,
            "align_items": null,
            "align_self": null,
            "border": null,
            "bottom": null,
            "display": null,
            "flex": null,
            "flex_flow": null,
            "grid_area": null,
            "grid_auto_columns": null,
            "grid_auto_flow": null,
            "grid_auto_rows": null,
            "grid_column": null,
            "grid_gap": null,
            "grid_row": null,
            "grid_template_areas": null,
            "grid_template_columns": null,
            "grid_template_rows": null,
            "height": null,
            "justify_content": null,
            "justify_items": null,
            "left": null,
            "margin": null,
            "max_height": null,
            "max_width": null,
            "min_height": null,
            "min_width": null,
            "object_fit": null,
            "object_position": null,
            "order": null,
            "overflow": null,
            "overflow_x": null,
            "overflow_y": null,
            "padding": null,
            "right": null,
            "top": null,
            "visibility": null,
            "width": null
          }
        },
        "73f05c40b6c44858a35d8884031c664e": {
          "model_module": "@jupyter-widgets/controls",
          "model_module_version": "1.5.0",
          "model_name": "HTMLModel",
          "state": {
            "_dom_classes": [],
            "_model_module": "@jupyter-widgets/controls",
            "_model_module_version": "1.5.0",
            "_model_name": "HTMLModel",
            "_view_count": null,
            "_view_module": "@jupyter-widgets/controls",
            "_view_module_version": "1.5.0",
            "_view_name": "HTMLView",
            "description": "",
            "description_tooltip": null,
            "layout": "IPY_MODEL_5fcac8171c9642c0bf8931bf9aa7214d",
            "placeholder": "​",
            "style": "IPY_MODEL_eafedcea81ba451687176aa6c973cf6c",
            "value": " 97%"
          }
        },
        "8c7a9995de214ef39d04a85059543261": {
          "model_module": "@jupyter-widgets/base",
          "model_module_version": "1.2.0",
          "model_name": "LayoutModel",
          "state": {
            "_model_module": "@jupyter-widgets/base",
            "_model_module_version": "1.2.0",
            "_model_name": "LayoutModel",
            "_view_count": null,
            "_view_module": "@jupyter-widgets/base",
            "_view_module_version": "1.2.0",
            "_view_name": "LayoutView",
            "align_content": null,
            "align_items": null,
            "align_self": null,
            "border": null,
            "bottom": null,
            "display": null,
            "flex": null,
            "flex_flow": null,
            "grid_area": null,
            "grid_auto_columns": null,
            "grid_auto_flow": null,
            "grid_auto_rows": null,
            "grid_column": null,
            "grid_gap": null,
            "grid_row": null,
            "grid_template_areas": null,
            "grid_template_columns": null,
            "grid_template_rows": null,
            "height": null,
            "justify_content": null,
            "justify_items": null,
            "left": null,
            "margin": null,
            "max_height": null,
            "max_width": null,
            "min_height": null,
            "min_width": null,
            "object_fit": null,
            "object_position": null,
            "order": null,
            "overflow": null,
            "overflow_x": null,
            "overflow_y": null,
            "padding": null,
            "right": null,
            "top": null,
            "visibility": null,
            "width": null
          }
        },
        "ac9ca65cf8d644b2b867a6c175a1947b": {
          "model_module": "@jupyter-widgets/controls",
          "model_module_version": "1.5.0",
          "model_name": "HBoxModel",
          "state": {
            "_dom_classes": [],
            "_model_module": "@jupyter-widgets/controls",
            "_model_module_version": "1.5.0",
            "_model_name": "HBoxModel",
            "_view_count": null,
            "_view_module": "@jupyter-widgets/controls",
            "_view_module_version": "1.5.0",
            "_view_name": "HBoxView",
            "box_style": "",
            "children": [
              "IPY_MODEL_73f05c40b6c44858a35d8884031c664e",
              "IPY_MODEL_6075554469b94863b58e7dc890fa5e3a",
              "IPY_MODEL_d181486edf064a1b85530bdfe199b0b2"
            ],
            "layout": "IPY_MODEL_8c7a9995de214ef39d04a85059543261"
          }
        },
        "d181486edf064a1b85530bdfe199b0b2": {
          "model_module": "@jupyter-widgets/controls",
          "model_module_version": "1.5.0",
          "model_name": "HTMLModel",
          "state": {
            "_dom_classes": [],
            "_model_module": "@jupyter-widgets/controls",
            "_model_module_version": "1.5.0",
            "_model_name": "HTMLModel",
            "_view_count": null,
            "_view_module": "@jupyter-widgets/controls",
            "_view_module_version": "1.5.0",
            "_view_name": "HTMLView",
            "description": "",
            "description_tooltip": null,
            "layout": "IPY_MODEL_70fc54f08cd24a8aad2e0e2971aafd13",
            "placeholder": "​",
            "style": "IPY_MODEL_0d5ad807bbc44252859c6a7caaab14e5",
            "value": " 35/36 [45:11&lt;01:27, 87.76s/it]"
          }
        },
        "eafedcea81ba451687176aa6c973cf6c": {
          "model_module": "@jupyter-widgets/controls",
          "model_module_version": "1.5.0",
          "model_name": "DescriptionStyleModel",
          "state": {
            "_model_module": "@jupyter-widgets/controls",
            "_model_module_version": "1.5.0",
            "_model_name": "DescriptionStyleModel",
            "_view_count": null,
            "_view_module": "@jupyter-widgets/base",
            "_view_module_version": "1.2.0",
            "_view_name": "StyleView",
            "description_width": ""
          }
        }
      }
    }
  },
  "nbformat": 4,
  "nbformat_minor": 0
}
