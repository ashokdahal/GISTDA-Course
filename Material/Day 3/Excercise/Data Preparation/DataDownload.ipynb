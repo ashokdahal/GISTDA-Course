{
 "cells": [
  {
   "cell_type": "code",
   "execution_count": 1,
   "metadata": {},
   "outputs": [],
   "source": [
    "import geopandas as gpd\n",
    "import openeo \n",
    "import json"
   ]
  },
  {
   "cell_type": "code",
   "execution_count": 2,
   "metadata": {},
   "outputs": [
    {
     "name": "stdout",
     "output_type": "stream",
     "text": [
      "Authenticated using refresh token.\n"
     ]
    }
   ],
   "source": [
    "connection = openeo.connect(url=\"openeo.dataspace.copernicus.eu\").authenticate_oidc()"
   ]
  },
  {
   "cell_type": "code",
   "execution_count": 3,
   "metadata": {},
   "outputs": [],
   "source": [
    "aoi = json.loads(gpd.read_file(\"Dataset/Extent/StudyArea.gpkg\").to_json())"
   ]
  },
  {
   "cell_type": "code",
   "execution_count": 4,
   "metadata": {},
   "outputs": [],
   "source": [
    "sentinel2_cube = connection.load_collection(\n",
    "    \"SENTINEL2_L2A\",\n",
    "    spatial_extent=aoi,\n",
    "    temporal_extent=[\"2019-10-13\", \"2019-11-05\"],\n",
    "    bands=[\"B02\",\"B03\", \"B04\", \"B08\"],\n",
    ")"
   ]
  },
  {
   "cell_type": "code",
   "execution_count": 5,
   "metadata": {},
   "outputs": [],
   "source": [
    "sentinel1_pre_cube = connection.load_collection(\n",
    "    \"SENTINEL1_GRD\",\n",
    "    spatial_extent=aoi,\n",
    "    temporal_extent=[\"2019-09-01\", \"2019-10-01\"],\n",
    "    bands = ['VV'],\n",
    "    properties={\"sat:orbit_state\": lambda v: v==\"ascending\"}\n",
    ")\n",
    "sentinel1_pre_cube = sentinel1_pre_cube.sar_backscatter(coefficient=\"gamma0-ellipsoid\")"
   ]
  },
  {
   "cell_type": "code",
   "execution_count": 6,
   "metadata": {},
   "outputs": [],
   "source": [
    "sentinel1_post_cube = connection.load_collection(\n",
    "    \"SENTINEL1_GRD\",\n",
    "    spatial_extent=aoi,\n",
    "    temporal_extent=[\"2019-10-13\", \"2019-11-05\"],\n",
    "    bands = ['VV'],\n",
    "    properties={\"sat:orbit_state\": lambda v: v==\"ascending\"}\n",
    ")\n",
    "sentinel1_post_cube = sentinel1_post_cube.sar_backscatter(coefficient=\"gamma0-ellipsoid\")"
   ]
  },
  {
   "cell_type": "code",
   "execution_count": 7,
   "metadata": {},
   "outputs": [],
   "source": [
    "sentinel2_cube  = sentinel2_cube.reduce_dimension(dimension=\"t\", reducer=\"median\")"
   ]
  },
  {
   "cell_type": "code",
   "execution_count": 8,
   "metadata": {},
   "outputs": [],
   "source": [
    "sentinel1_pre_cube = sentinel1_pre_cube.reduce_dimension(dimension=\"t\", reducer=\"last\")"
   ]
  },
  {
   "cell_type": "code",
   "execution_count": 9,
   "metadata": {},
   "outputs": [],
   "source": [
    "sentinel1_post_cube = sentinel1_post_cube.reduce_dimension(dimension=\"t\", reducer=\"first\")"
   ]
  },
  {
   "cell_type": "code",
   "execution_count": 10,
   "metadata": {},
   "outputs": [],
   "source": [
    "ratio = sentinel1_post_cube.divide(sentinel1_pre_cube)\n",
    "\n",
    "#rename for merging\n",
    "ratio = ratio.rename_labels(dimension=\"bands\", target=[\"ratio\"])\n",
    "sentinel1_post_cube = sentinel1_post_cube.rename_labels(dimension=\"bands\", target=[\"postSAR\"])\n",
    "sentinel1_pre_cube = sentinel1_pre_cube.rename_labels(dimension=\"bands\", target=[\"preSAR\"])"
   ]
  },
  {
   "cell_type": "code",
   "execution_count": 11,
   "metadata": {},
   "outputs": [],
   "source": [
    "radar_cubes = [sentinel1_pre_cube,sentinel1_post_cube,ratio]\n",
    "merged_cube = sentinel2_cube\n",
    "for cube in radar_cubes:\n",
    "    merged_cube = merged_cube.merge_cubes(cube)"
   ]
  },
  {
   "cell_type": "code",
   "execution_count": 12,
   "metadata": {},
   "outputs": [
    {
     "name": "stdout",
     "output_type": "stream",
     "text": [
      "0:00:00 Job 'j-2407096d8d4c4200919bd10d5f1c6a79': send 'start'\n",
      "0:00:15 Job 'j-2407096d8d4c4200919bd10d5f1c6a79': queued (progress 0%)\n",
      "0:00:20 Job 'j-2407096d8d4c4200919bd10d5f1c6a79': queued (progress 0%)\n",
      "0:00:26 Job 'j-2407096d8d4c4200919bd10d5f1c6a79': queued (progress 0%)\n",
      "0:00:34 Job 'j-2407096d8d4c4200919bd10d5f1c6a79': queued (progress 0%)\n",
      "0:00:44 Job 'j-2407096d8d4c4200919bd10d5f1c6a79': queued (progress 0%)\n",
      "0:00:57 Job 'j-2407096d8d4c4200919bd10d5f1c6a79': queued (progress 0%)\n",
      "0:01:17 Job 'j-2407096d8d4c4200919bd10d5f1c6a79': running (progress N/A)\n",
      "0:01:37 Job 'j-2407096d8d4c4200919bd10d5f1c6a79': running (progress N/A)\n",
      "0:02:01 Job 'j-2407096d8d4c4200919bd10d5f1c6a79': running (progress N/A)\n",
      "0:02:31 Job 'j-2407096d8d4c4200919bd10d5f1c6a79': running (progress N/A)\n",
      "0:03:08 Job 'j-2407096d8d4c4200919bd10d5f1c6a79': running (progress N/A)\n",
      "0:03:55 Job 'j-2407096d8d4c4200919bd10d5f1c6a79': running (progress N/A)\n",
      "0:04:54 Job 'j-2407096d8d4c4200919bd10d5f1c6a79': finished (progress 100%)\n"
     ]
    },
    {
     "data": {
      "text/html": [
       "\n",
       "    <script>\n",
       "    if (!window.customElements || !window.customElements.get('openeo-job')) {\n",
       "        var el = document.createElement('script');\n",
       "        el.src = \"https://cdn.jsdelivr.net/npm/@openeo/vue-components@2/assets/openeo.min.js\";\n",
       "        document.head.appendChild(el);\n",
       "\n",
       "        var font = document.createElement('font');\n",
       "        font.as = \"font\";\n",
       "        font.type = \"font/woff2\";\n",
       "        font.crossOrigin = true;\n",
       "        font.href = \"https://use.fontawesome.com/releases/v5.13.0/webfonts/fa-solid-900.woff2\"\n",
       "        document.head.appendChild(font);\n",
       "    }\n",
       "    </script>\n",
       "    <openeo-job>\n",
       "        <script type=\"application/json\">{\"currency\": \"credits\", \"job\": {\"costs\": 4, \"created\": \"2024-07-09T15:08:58Z\", \"id\": \"j-2407096d8d4c4200919bd10d5f1c6a79\", \"process\": {\"process_graph\": {\"loadcollection1\": {\"arguments\": {\"bands\": [\"B02\", \"B03\", \"B04\", \"B08\"], \"id\": \"SENTINEL2_L2A\", \"spatial_extent\": {\"features\": [{\"geometry\": {\"coordinates\": [[[140.7160301754552, 37.86585770883867], [140.94365642839867, 37.867019067272054], [140.94634911021427, 38.18026870102392], [140.7144904352994, 38.179628207446804], [140.7160301754552, 37.86585770883867]]], \"type\": \"Polygon\"}, \"id\": \"0\", \"properties\": {\"AREA\": 0.59606523119146, \"CNTX\": 140.62950897216797, \"CNTY\": 37.68004035949707, \"HEIGHT\": 0.9600563049316406, \"MAXX\": 140.93994140625, \"MAXY\": 38.16006851196289, \"MINX\": 140.31907653808594, \"MINY\": 37.20001220703125, \"PERIM\": 3.1618423461914062, \"WIDTH\": 0.6208648681640625}, \"type\": \"Feature\"}], \"type\": \"FeatureCollection\"}, \"temporal_extent\": [\"2019-10-13\", \"2019-11-05\"]}, \"process_id\": \"load_collection\"}, \"loadcollection2\": {\"arguments\": {\"bands\": [\"VV\"], \"id\": \"SENTINEL1_GRD\", \"properties\": {\"sat:orbit_state\": {\"process_graph\": {\"eq1\": {\"arguments\": {\"x\": {\"from_parameter\": \"value\"}, \"y\": \"ascending\"}, \"process_id\": \"eq\", \"result\": true}}}}, \"spatial_extent\": {\"features\": [{\"geometry\": {\"coordinates\": [[[140.7160301754552, 37.86585770883867], [140.94365642839867, 37.867019067272054], [140.94634911021427, 38.18026870102392], [140.7144904352994, 38.179628207446804], [140.7160301754552, 37.86585770883867]]], \"type\": \"Polygon\"}, \"id\": \"0\", \"properties\": {\"AREA\": 0.59606523119146, \"CNTX\": 140.62950897216797, \"CNTY\": 37.68004035949707, \"HEIGHT\": 0.9600563049316406, \"MAXX\": 140.93994140625, \"MAXY\": 38.16006851196289, \"MINX\": 140.31907653808594, \"MINY\": 37.20001220703125, \"PERIM\": 3.1618423461914062, \"WIDTH\": 0.6208648681640625}, \"type\": \"Feature\"}], \"type\": \"FeatureCollection\"}, \"temporal_extent\": [\"2019-09-01\", \"2019-10-01\"]}, \"process_id\": \"load_collection\"}, \"loadcollection3\": {\"arguments\": {\"bands\": [\"VV\"], \"id\": \"SENTINEL1_GRD\", \"properties\": {\"sat:orbit_state\": {\"process_graph\": {\"eq2\": {\"arguments\": {\"x\": {\"from_parameter\": \"value\"}, \"y\": \"ascending\"}, \"process_id\": \"eq\", \"result\": true}}}}, \"spatial_extent\": {\"features\": [{\"geometry\": {\"coordinates\": [[[140.7160301754552, 37.86585770883867], [140.94365642839867, 37.867019067272054], [140.94634911021427, 38.18026870102392], [140.7144904352994, 38.179628207446804], [140.7160301754552, 37.86585770883867]]], \"type\": \"Polygon\"}, \"id\": \"0\", \"properties\": {\"AREA\": 0.59606523119146, \"CNTX\": 140.62950897216797, \"CNTY\": 37.68004035949707, \"HEIGHT\": 0.9600563049316406, \"MAXX\": 140.93994140625, \"MAXY\": 38.16006851196289, \"MINX\": 140.31907653808594, \"MINY\": 37.20001220703125, \"PERIM\": 3.1618423461914062, \"WIDTH\": 0.6208648681640625}, \"type\": \"Feature\"}], \"type\": \"FeatureCollection\"}, \"temporal_extent\": [\"2019-10-13\", \"2019-11-05\"]}, \"process_id\": \"load_collection\"}, \"mergecubes1\": {\"arguments\": {\"cube1\": {\"from_node\": \"reducedimension1\"}, \"cube2\": {\"from_node\": \"renamelabels1\"}}, \"process_id\": \"merge_cubes\"}, \"mergecubes2\": {\"arguments\": {\"cube1\": {\"from_node\": \"mergecubes1\"}, \"cube2\": {\"from_node\": \"renamelabels2\"}}, \"process_id\": \"merge_cubes\"}, \"mergecubes3\": {\"arguments\": {\"cube1\": {\"from_node\": \"reducedimension3\"}, \"cube2\": {\"from_node\": \"reducedimension2\"}, \"overlap_resolver\": {\"process_graph\": {\"divide1\": {\"arguments\": {\"x\": {\"from_parameter\": \"x\"}, \"y\": {\"from_parameter\": \"y\"}}, \"process_id\": \"divide\", \"result\": true}}}}, \"process_id\": \"merge_cubes\"}, \"mergecubes4\": {\"arguments\": {\"cube1\": {\"from_node\": \"mergecubes2\"}, \"cube2\": {\"from_node\": \"renamelabels3\"}}, \"process_id\": \"merge_cubes\"}, \"reducedimension1\": {\"arguments\": {\"data\": {\"from_node\": \"loadcollection1\"}, \"dimension\": \"t\", \"reducer\": {\"process_graph\": {\"median1\": {\"arguments\": {\"data\": {\"from_parameter\": \"data\"}}, \"process_id\": \"median\", \"result\": true}}}}, \"process_id\": \"reduce_dimension\"}, \"reducedimension2\": {\"arguments\": {\"data\": {\"from_node\": \"sarbackscatter1\"}, \"dimension\": \"t\", \"reducer\": {\"process_graph\": {\"last1\": {\"arguments\": {\"data\": {\"from_parameter\": \"data\"}}, \"process_id\": \"last\", \"result\": true}}}}, \"process_id\": \"reduce_dimension\"}, \"reducedimension3\": {\"arguments\": {\"data\": {\"from_node\": \"sarbackscatter2\"}, \"dimension\": \"t\", \"reducer\": {\"process_graph\": {\"first1\": {\"arguments\": {\"data\": {\"from_parameter\": \"data\"}}, \"process_id\": \"first\", \"result\": true}}}}, \"process_id\": \"reduce_dimension\"}, \"renamelabels1\": {\"arguments\": {\"data\": {\"from_node\": \"reducedimension2\"}, \"dimension\": \"bands\", \"target\": [\"preSAR\"]}, \"process_id\": \"rename_labels\"}, \"renamelabels2\": {\"arguments\": {\"data\": {\"from_node\": \"reducedimension3\"}, \"dimension\": \"bands\", \"target\": [\"postSAR\"]}, \"process_id\": \"rename_labels\"}, \"renamelabels3\": {\"arguments\": {\"data\": {\"from_node\": \"mergecubes3\"}, \"dimension\": \"bands\", \"target\": [\"ratio\"]}, \"process_id\": \"rename_labels\"}, \"sarbackscatter1\": {\"arguments\": {\"coefficient\": \"gamma0-ellipsoid\", \"contributing_area\": false, \"data\": {\"from_node\": \"loadcollection2\"}, \"elevation_model\": null, \"ellipsoid_incidence_angle\": false, \"local_incidence_angle\": false, \"mask\": false, \"noise_removal\": true}, \"process_id\": \"sar_backscatter\"}, \"sarbackscatter2\": {\"arguments\": {\"coefficient\": \"gamma0-ellipsoid\", \"contributing_area\": false, \"data\": {\"from_node\": \"loadcollection3\"}, \"elevation_model\": null, \"ellipsoid_incidence_angle\": false, \"local_incidence_angle\": false, \"mask\": false, \"noise_removal\": true}, \"process_id\": \"sar_backscatter\"}, \"saveresult1\": {\"arguments\": {\"data\": {\"from_node\": \"mergecubes4\"}, \"format\": \"netCDF\", \"options\": {}}, \"process_id\": \"save_result\", \"result\": true}}}, \"progress\": 100, \"status\": \"finished\", \"title\": \"Download Japan\", \"updated\": \"2024-07-09T15:13:15Z\", \"usage\": {\"cpu\": {\"unit\": \"cpu-seconds\", \"value\": 1045.055071624}, \"duration\": {\"unit\": \"seconds\", \"value\": 228}, \"input_pixel\": {\"unit\": \"mega-pixel\", \"value\": 208}, \"max_executor_memory\": {\"unit\": \"gb\", \"value\": 4.8123016357421875}, \"memory\": {\"unit\": \"mb-seconds\", \"value\": 10003386.07421875}, \"network_received\": {\"unit\": \"b\", \"value\": 33403589691}}}}</script>\n",
       "    </openeo-job>\n",
       "    "
      ],
      "text/plain": [
       "<BatchJob job_id='j-2407096d8d4c4200919bd10d5f1c6a79'>"
      ]
     },
     "execution_count": 12,
     "metadata": {},
     "output_type": "execute_result"
    }
   ],
   "source": [
    "job_options = {\n",
    "    \"executor-memory\": \"3G\",\n",
    "    \"executor-memoryOverhead\": \"4G\",\n",
    "    \"executor-cores\": \"2\",\n",
    "}\n",
    "merged_cube.execute_batch(title=\"Download Japan\",outputfile=\"Data/JapanImages.tiff\", job_options=job_options)"
   ]
  }
 ],
 "metadata": {
  "kernelspec": {
   "display_name": "PInSAR",
   "language": "python",
   "name": "python3"
  },
  "language_info": {
   "codemirror_mode": {
    "name": "ipython",
    "version": 3
   },
   "file_extension": ".py",
   "mimetype": "text/x-python",
   "name": "python",
   "nbconvert_exporter": "python",
   "pygments_lexer": "ipython3",
   "version": "3.11.3"
  }
 },
 "nbformat": 4,
 "nbformat_minor": 2
}
