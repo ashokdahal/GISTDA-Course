{
  "cells": [
    {
      "cell_type": "code",
      "execution_count": null,
      "metadata": {
        "id": "fzI1MVei0sXI"
      },
      "outputs": [],
      "source": [
        "# Download Ground Truth\n",
        "!mkdir Dataset\n",
        "!wget  https://huggingface.co/datasets/S1Floodbenchmark/UrbanSARFloods_v1/resolve/main/testing_case_orig/20210727_Weihui/20210727_Weihui_GT.tif?download=true  -O Dataset/GT.tif"
      ]
    },
    {
      "cell_type": "code",
      "execution_count": null,
      "metadata": {
        "id": "64AkFFAY0wug"
      },
      "outputs": [],
      "source": [
        "# Download Satellite Image\n",
        "!wget  https://huggingface.co/datasets/S1Floodbenchmark/UrbanSARFloods_v1/resolve/main/testing_case_orig/20210727_Weihui/20210727_Weihui_SAR.tif?download=true  -O Dataset/Image.tif"
      ]
    },
    {
      "cell_type": "code",
      "execution_count": null,
      "metadata": {
        "id": "Fqq7SXyE0zZS"
      },
      "outputs": [],
      "source": [
        "# Upload Fastflood Flood Height in your google drive and download it in current directory (OR JUST UPLOAD MANUALLY)\n",
        "!gdown --fuzzy https://drive.google.com/file/d/1-8lL4DW6l8dgPVFyRgAGFnqiwXCCNR_T/view?usp=drive_link -O Dataset/FastFlood.tif"
      ]
    },
    {
      "cell_type": "code",
      "execution_count": 4,
      "metadata": {
        "colab": {
          "base_uri": "https://localhost:8080/"
        },
        "id": "aJgtD1g_1kfQ",
        "outputId": "dad5c346-57e3-4bde-872b-31ada8caaa16"
      },
      "outputs": [
        {
          "name": "stdout",
          "output_type": "stream",
          "text": [
            "Installing collected packages: snuggs, affine, rasterio\n",
            "Successfully installed affine-2.4.0 rasterio-1.3.10 snuggs-1.4.7\n"
          ]
        }
      ],
      "source": [
        "# Install required Libraries\n",
        "!pip install rasterio"
      ]
    },
    {
      "cell_type": "code",
      "execution_count": 2,
      "metadata": {
        "id": "exU8qpT60lI8"
      },
      "outputs": [],
      "source": [
        "import rasterio\n",
        "import numpy as np\n",
        "import os\n",
        "import geopandas as gpd\n",
        "import xarray as xr\n",
        "from tqdm.notebook import tqdm"
      ]
    },
    {
      "cell_type": "code",
      "execution_count": 4,
      "metadata": {
        "colab": {
          "base_uri": "https://localhost:8080/",
          "height": 67,
          "referenced_widgets": [
            "ac9ca65cf8d644b2b867a6c175a1947b",
            "73f05c40b6c44858a35d8884031c664e",
            "6075554469b94863b58e7dc890fa5e3a",
            "d181486edf064a1b85530bdfe199b0b2",
            "8c7a9995de214ef39d04a85059543261",
            "5fcac8171c9642c0bf8931bf9aa7214d",
            "eafedcea81ba451687176aa6c973cf6c",
            "6e81d9b7321243618f3ba4f65fcb4830",
            "2a92e39180e34fe6b2cfcaa4f5cfc14c",
            "70fc54f08cd24a8aad2e0e2971aafd13",
            "0d5ad807bbc44252859c6a7caaab14e5"
          ]
        },
        "id": "kmrMwdgp4_kd",
        "outputId": "e4402329-b007-4501-d9f3-441691efc2d7"
      },
      "outputs": [
        {
          "ename": "SystemError",
          "evalue": "<class 'rasterio._err.CPLE_OpenFailedError'> returned a result with an exception set",
          "output_type": "error",
          "traceback": [
            "\u001b[0;31m---------------------------------------------------------------------------\u001b[0m",
            "\u001b[0;31mKeyboardInterrupt\u001b[0m                         Traceback (most recent call last)",
            "File \u001b[0;32mrasterio/_env.pyx:102\u001b[0m, in \u001b[0;36mrasterio._env.logging_error_handler\u001b[0;34m()\u001b[0m\n",
            "File \u001b[0;32mrasterio/_env.pyx:84\u001b[0m, in \u001b[0;36mrasterio._env.log_error\u001b[0;34m()\u001b[0m\n",
            "File \u001b[0;32m~/anaconda3/envs/PInSAR/lib/python3.11/logging/__init__.py:1479\u001b[0m, in \u001b[0;36mLogger.info\u001b[0;34m(self, msg, *args, **kwargs)\u001b[0m\n\u001b[1;32m   1477\u001b[0m         \u001b[38;5;28mself\u001b[39m\u001b[38;5;241m.\u001b[39m_log(DEBUG, msg, args, \u001b[38;5;241m*\u001b[39m\u001b[38;5;241m*\u001b[39mkwargs)\n\u001b[0;32m-> 1479\u001b[0m \u001b[38;5;28;01mdef\u001b[39;00m \u001b[38;5;21minfo\u001b[39m(\u001b[38;5;28mself\u001b[39m, msg, \u001b[38;5;241m*\u001b[39margs, \u001b[38;5;241m*\u001b[39m\u001b[38;5;241m*\u001b[39mkwargs):\n\u001b[1;32m   1480\u001b[0m \u001b[38;5;250m    \u001b[39m\u001b[38;5;124;03m\"\"\"\u001b[39;00m\n\u001b[1;32m   1481\u001b[0m \u001b[38;5;124;03m    Log 'msg % args' with severity 'INFO'.\u001b[39;00m\n\u001b[1;32m   1482\u001b[0m \n\u001b[0;32m   (...)\u001b[0m\n\u001b[1;32m   1486\u001b[0m \u001b[38;5;124;03m    logger.info(\"Houston, we have a %s\", \"interesting problem\", exc_info=1)\u001b[39;00m\n\u001b[1;32m   1487\u001b[0m \u001b[38;5;124;03m    \"\"\"\u001b[39;00m\n",
            "\u001b[0;31mKeyboardInterrupt\u001b[0m: ",
            "\nThe above exception was the direct cause of the following exception:\n",
            "\u001b[0;31mSystemError\u001b[0m                               Traceback (most recent call last)",
            "Cell \u001b[0;32mIn[4], line 83\u001b[0m\n\u001b[1;32m     80\u001b[0m \u001b[38;5;66;03m# Ensure the output directory exists\u001b[39;00m\n\u001b[1;32m     81\u001b[0m os\u001b[38;5;241m.\u001b[39mmakedirs(output_dir, exist_ok\u001b[38;5;241m=\u001b[39m\u001b[38;5;28;01mTrue\u001b[39;00m)\n\u001b[0;32m---> 83\u001b[0m sat_patch,gt_patch,ff_patch \u001b[38;5;241m=\u001b[39m \u001b[43mcreate_image_patches\u001b[49m\u001b[43m(\u001b[49m\u001b[43msat_image_path\u001b[49m\u001b[43m,\u001b[49m\u001b[43m \u001b[49m\u001b[43mgt_image_path\u001b[49m\u001b[43m,\u001b[49m\u001b[43mff_image_path\u001b[49m\u001b[43m,\u001b[49m\u001b[43m \u001b[49m\u001b[43mpatch_size\u001b[49m\u001b[43m,\u001b[49m\u001b[43m \u001b[49m\u001b[43moutput_dir\u001b[49m\u001b[43m)\u001b[49m\n",
            "Cell \u001b[0;32mIn[4], line 4\u001b[0m, in \u001b[0;36mcreate_image_patches\u001b[0;34m(sat_image_path, gt_image_path, ff_image_path, patch_size, output_dir)\u001b[0m\n\u001b[1;32m      2\u001b[0m counter \u001b[38;5;241m=\u001b[39m \u001b[38;5;241m0\u001b[39m\n\u001b[1;32m      3\u001b[0m \u001b[38;5;66;03m# Open the satellite image and ground truth image\u001b[39;00m\n\u001b[0;32m----> 4\u001b[0m \u001b[38;5;28;01mwith\u001b[39;00m \u001b[43mrasterio\u001b[49m\u001b[38;5;241;43m.\u001b[39;49m\u001b[43mopen\u001b[49m\u001b[43m(\u001b[49m\u001b[43msat_image_path\u001b[49m\u001b[43m,\u001b[49m\u001b[43m \u001b[49m\u001b[43mnodata\u001b[49m\u001b[38;5;241;43m=\u001b[39;49m\u001b[43mnp\u001b[49m\u001b[38;5;241;43m.\u001b[39;49m\u001b[43mnan\u001b[49m\u001b[43m)\u001b[49m \u001b[38;5;28;01mas\u001b[39;00m sat_image, rasterio\u001b[38;5;241m.\u001b[39mopen(gt_image_path) \u001b[38;5;28;01mas\u001b[39;00m gt_image, rasterio\u001b[38;5;241m.\u001b[39mopen(ff_image_path) \u001b[38;5;28;01mas\u001b[39;00m ff_image:\n\u001b[1;32m      5\u001b[0m     \u001b[38;5;66;03m# Check if dimensions match\u001b[39;00m\n\u001b[1;32m      6\u001b[0m     \u001b[38;5;28;01massert\u001b[39;00m sat_image\u001b[38;5;241m.\u001b[39mwidth \u001b[38;5;241m==\u001b[39m gt_image\u001b[38;5;241m.\u001b[39mwidth \u001b[38;5;129;01mand\u001b[39;00m sat_image\u001b[38;5;241m.\u001b[39mheight \u001b[38;5;241m==\u001b[39m gt_image\u001b[38;5;241m.\u001b[39mheight, \u001b[38;5;124m\"\u001b[39m\u001b[38;5;124mImage dimensions do not match between satellite image and ground truth\u001b[39m\u001b[38;5;124m\"\u001b[39m\n\u001b[1;32m      7\u001b[0m     \u001b[38;5;28;01massert\u001b[39;00m sat_image\u001b[38;5;241m.\u001b[39mwidth \u001b[38;5;241m==\u001b[39m ff_image\u001b[38;5;241m.\u001b[39mwidth \u001b[38;5;129;01mand\u001b[39;00m sat_image\u001b[38;5;241m.\u001b[39mheight \u001b[38;5;241m==\u001b[39m ff_image\u001b[38;5;241m.\u001b[39mheight, \u001b[38;5;124m\"\u001b[39m\u001b[38;5;124mImage dimensions do not match between satellite image and fast flood image\u001b[39m\u001b[38;5;124m\"\u001b[39m\n",
            "File \u001b[0;32m~/anaconda3/envs/PInSAR/lib/python3.11/site-packages/rasterio/env.py:451\u001b[0m, in \u001b[0;36mensure_env_with_credentials.<locals>.wrapper\u001b[0;34m(*args, **kwds)\u001b[0m\n\u001b[1;32m    448\u001b[0m     session \u001b[38;5;241m=\u001b[39m DummySession()\n\u001b[1;32m    450\u001b[0m \u001b[38;5;28;01mwith\u001b[39;00m env_ctor(session\u001b[38;5;241m=\u001b[39msession):\n\u001b[0;32m--> 451\u001b[0m     \u001b[38;5;28;01mreturn\u001b[39;00m \u001b[43mf\u001b[49m\u001b[43m(\u001b[49m\u001b[38;5;241;43m*\u001b[39;49m\u001b[43margs\u001b[49m\u001b[43m,\u001b[49m\u001b[43m \u001b[49m\u001b[38;5;241;43m*\u001b[39;49m\u001b[38;5;241;43m*\u001b[39;49m\u001b[43mkwds\u001b[49m\u001b[43m)\u001b[49m\n",
            "File \u001b[0;32m~/anaconda3/envs/PInSAR/lib/python3.11/site-packages/rasterio/__init__.py:304\u001b[0m, in \u001b[0;36mopen\u001b[0;34m(fp, mode, driver, width, height, count, crs, transform, dtype, nodata, sharing, **kwargs)\u001b[0m\n\u001b[1;32m    301\u001b[0m path \u001b[38;5;241m=\u001b[39m _parse_path(raw_dataset_path)\n\u001b[1;32m    303\u001b[0m \u001b[38;5;28;01mif\u001b[39;00m mode \u001b[38;5;241m==\u001b[39m \u001b[38;5;124m\"\u001b[39m\u001b[38;5;124mr\u001b[39m\u001b[38;5;124m\"\u001b[39m:\n\u001b[0;32m--> 304\u001b[0m     dataset \u001b[38;5;241m=\u001b[39m \u001b[43mDatasetReader\u001b[49m\u001b[43m(\u001b[49m\u001b[43mpath\u001b[49m\u001b[43m,\u001b[49m\u001b[43m \u001b[49m\u001b[43mdriver\u001b[49m\u001b[38;5;241;43m=\u001b[39;49m\u001b[43mdriver\u001b[49m\u001b[43m,\u001b[49m\u001b[43m \u001b[49m\u001b[43msharing\u001b[49m\u001b[38;5;241;43m=\u001b[39;49m\u001b[43msharing\u001b[49m\u001b[43m,\u001b[49m\u001b[43m \u001b[49m\u001b[38;5;241;43m*\u001b[39;49m\u001b[38;5;241;43m*\u001b[39;49m\u001b[43mkwargs\u001b[49m\u001b[43m)\u001b[49m\n\u001b[1;32m    305\u001b[0m \u001b[38;5;28;01melif\u001b[39;00m mode \u001b[38;5;241m==\u001b[39m \u001b[38;5;124m\"\u001b[39m\u001b[38;5;124mr+\u001b[39m\u001b[38;5;124m\"\u001b[39m:\n\u001b[1;32m    306\u001b[0m     dataset \u001b[38;5;241m=\u001b[39m get_writer_for_path(path, driver\u001b[38;5;241m=\u001b[39mdriver)(\n\u001b[1;32m    307\u001b[0m         path, mode, driver\u001b[38;5;241m=\u001b[39mdriver, sharing\u001b[38;5;241m=\u001b[39msharing, \u001b[38;5;241m*\u001b[39m\u001b[38;5;241m*\u001b[39mkwargs\n\u001b[1;32m    308\u001b[0m     )\n",
            "File \u001b[0;32mrasterio/_base.pyx:310\u001b[0m, in \u001b[0;36mrasterio._base.DatasetBase.__init__\u001b[0;34m()\u001b[0m\n",
            "File \u001b[0;32mrasterio/_base.pyx:221\u001b[0m, in \u001b[0;36mrasterio._base.open_dataset\u001b[0;34m()\u001b[0m\n",
            "File \u001b[0;32mrasterio/_err.pyx:219\u001b[0m, in \u001b[0;36mrasterio._err.exc_wrap_pointer\u001b[0;34m()\u001b[0m\n",
            "File \u001b[0;32mrasterio/_err.pyx:166\u001b[0m, in \u001b[0;36mrasterio._err.exc_check\u001b[0;34m()\u001b[0m\n",
            "\u001b[0;31mSystemError\u001b[0m: <class 'rasterio._err.CPLE_OpenFailedError'> returned a result with an exception set"
          ]
        }
      ],
      "source": [
        "def create_image_patches(sat_image_path, gt_image_path, ff_image_path, patch_size=128, output_dir=\"Dataset/Patches\"):\n",
        "    counter = 0\n",
        "    # Open the satellite image and ground truth image\n",
        "    with rasterio.open(sat_image_path, nodata=np.nan) as sat_image, rasterio.open(gt_image_path) as gt_image, rasterio.open(ff_image_path) as ff_image:\n",
        "        # Check if dimensions match\n",
        "        assert sat_image.width == gt_image.width and sat_image.height == gt_image.height, \"Image dimensions do not match between satellite image and ground truth\"\n",
        "        assert sat_image.width == ff_image.width and sat_image.height == ff_image.height, \"Image dimensions do not match between satellite image and fast flood image\"\n",
        "\n",
        "        # Get the nodata values\n",
        "        sat_nodata = sat_image.nodata\n",
        "        gt_nodata = gt_image.nodata\n",
        "        ff_nodata = ff_image.nodata\n",
        "        print(f\"Nodata values for sat, gt, ff {sat_nodata,gt_nodata,ff_nodata}\")\n",
        "        # Determine the number of patches in x and y direction\n",
        "        width, height = sat_image.width, sat_image.height\n",
        "        n_patches_x = width // patch_size\n",
        "        n_patches_y = height // patch_size\n",
        "\n",
        "        for i in tqdm(range(n_patches_x)):\n",
        "            for j in range(n_patches_y):\n",
        "                # Calculate window position\n",
        "                window = rasterio.windows.Window(i * patch_size, j * patch_size, patch_size, patch_size)\n",
        "\n",
        "                # Read the corresponding patches\n",
        "                sat_patch = sat_image.read(window=window)\n",
        "                gt_patch = gt_image.read(window=window)\n",
        "                ff_patch = ff_image.read(window=window)\n",
        "\n",
        "                # Stack patches to ensure both patches have the same dimensions\n",
        "                assert sat_patch.shape[1:] == gt_patch.shape[1:], \"Patch dimensions do not match\"\n",
        "                assert sat_patch.shape[1:] == ff_patch.shape[1:], \"Patch dimensions do not match\"\n",
        "\n",
        "                # if any of the image has nodata skip that patch\n",
        "                if np.any(np.isnan(sat_patch)) or np.any(sat_patch == sat_nodata) or np.all(sat_patch == 0.0):\n",
        "                    continue  # Skip this patch if any pixel has nodata value in satellite image\n",
        "                if np.any(np.isnan(gt_patch)) or np.any(gt_patch == gt_nodata):\n",
        "                    continue  # Skip this patch if any pixel has nodata value in ground truth image\n",
        "                if np.any(np.isnan(ff_patch)) or np.any(ff_patch == gt_nodata):\n",
        "                    continue  # Skip this patch if any pixel has nodata value in ground truth image\n",
        "\n",
        "                #combine ff patch with sat patch\n",
        "                Xdata_patch = np.vstack([sat_patch,ff_patch])\n",
        "                Ydata_patch = gt_patch\n",
        "                Ydata_patch[Ydata_patch==2.0] = 1.0\n",
        "\n",
        "                if Xdata_patch.shape[-1]!=patch_size or Xdata_patch.shape[-2]!=patch_size:\n",
        "                    continue  # Skip this patch if size does not match\n",
        "\n",
        "                if Ydata_patch.shape[-1]!=patch_size or Ydata_patch.shape[-2]!=patch_size:\n",
        "                    continue  # Skip this patch if size does not match\n",
        "\n",
        "                Xdata_patch = np.expand_dims(Xdata_patch,axis=0)\n",
        "                Ydata_patch = np.expand_dims(Ydata_patch,axis=0)\n",
        "                try:\n",
        "                  if counter == 0:\n",
        "                    Xdata = Xdata_patch\n",
        "                    Ydata = Ydata_patch\n",
        "\n",
        "                  else:\n",
        "                    Xdata = np.vstack([Xdata,Xdata_patch])\n",
        "                    Ydata = np.vstack([Ydata,Ydata_patch])\n",
        "                except:\n",
        "                  print(Xdata.shape, Xdata_patch.shape)\n",
        "                  print(Ydata.shape, Ydata_patch.shape)\n",
        "\n",
        "                counter += 1\n",
        "\n",
        "\n",
        "    np.save(os.path.join(output_dir, f'Xdata.npy'), Xdata)\n",
        "    np.save(os.path.join(output_dir, f'Ydata.npy'), Ydata)\n",
        "    print(f\" {counter} Number of patches are created and saved in the directory\")\n",
        "\n",
        "# Example usage\n",
        "sat_image_path = 'Dataset/Image.tif'\n",
        "gt_image_path = 'Dataset/GT.tif'\n",
        "ff_image_path = 'Dataset/FastFlood.tif'\n",
        "patch_size = 256  # Size of the patches (n x n)\n",
        "output_dir = 'Dataset'\n",
        "\n",
        "# Ensure the output directory exists\n",
        "os.makedirs(output_dir, exist_ok=True)\n",
        "sat_patch,gt_patch,ff_patch = create_image_patches(sat_image_path, gt_image_path,ff_image_path, patch_size, output_dir)\n"
      ]
    },
    {
      "cell_type": "code",
      "execution_count": null,
      "metadata": {
        "id": "Y2A1H83JEaB9"
      },
      "outputs": [],
      "source": []
    }
  ],
  "metadata": {
    "colab": {
      "provenance": []
    },
    "kernelspec": {
      "display_name": "PInSAR",
      "language": "python",
      "name": "python3"
    },
    "language_info": {
      "codemirror_mode": {
        "name": "ipython",
        "version": 3
      },
      "file_extension": ".py",
      "mimetype": "text/x-python",
      "name": "python",
      "nbconvert_exporter": "python",
      "pygments_lexer": "ipython3",
      "version": "3.11.3"
    },
    "widgets": {
      "application/vnd.jupyter.widget-state+json": {
        "0d5ad807bbc44252859c6a7caaab14e5": {
          "model_module": "@jupyter-widgets/controls",
          "model_module_version": "1.5.0",
          "model_name": "DescriptionStyleModel",
          "state": {
            "_model_module": "@jupyter-widgets/controls",
            "_model_module_version": "1.5.0",
            "_model_name": "DescriptionStyleModel",
            "_view_count": null,
            "_view_module": "@jupyter-widgets/base",
            "_view_module_version": "1.2.0",
            "_view_name": "StyleView",
            "description_width": ""
          }
        },
        "2a92e39180e34fe6b2cfcaa4f5cfc14c": {
          "model_module": "@jupyter-widgets/controls",
          "model_module_version": "1.5.0",
          "model_name": "ProgressStyleModel",
          "state": {
            "_model_module": "@jupyter-widgets/controls",
            "_model_module_version": "1.5.0",
            "_model_name": "ProgressStyleModel",
            "_view_count": null,
            "_view_module": "@jupyter-widgets/base",
            "_view_module_version": "1.2.0",
            "_view_name": "StyleView",
            "bar_color": null,
            "description_width": ""
          }
        },
        "5fcac8171c9642c0bf8931bf9aa7214d": {
          "model_module": "@jupyter-widgets/base",
          "model_module_version": "1.2.0",
          "model_name": "LayoutModel",
          "state": {
            "_model_module": "@jupyter-widgets/base",
            "_model_module_version": "1.2.0",
            "_model_name": "LayoutModel",
            "_view_count": null,
            "_view_module": "@jupyter-widgets/base",
            "_view_module_version": "1.2.0",
            "_view_name": "LayoutView",
            "align_content": null,
            "align_items": null,
            "align_self": null,
            "border": null,
            "bottom": null,
            "display": null,
            "flex": null,
            "flex_flow": null,
            "grid_area": null,
            "grid_auto_columns": null,
            "grid_auto_flow": null,
            "grid_auto_rows": null,
            "grid_column": null,
            "grid_gap": null,
            "grid_row": null,
            "grid_template_areas": null,
            "grid_template_columns": null,
            "grid_template_rows": null,
            "height": null,
            "justify_content": null,
            "justify_items": null,
            "left": null,
            "margin": null,
            "max_height": null,
            "max_width": null,
            "min_height": null,
            "min_width": null,
            "object_fit": null,
            "object_position": null,
            "order": null,
            "overflow": null,
            "overflow_x": null,
            "overflow_y": null,
            "padding": null,
            "right": null,
            "top": null,
            "visibility": null,
            "width": null
          }
        },
        "6075554469b94863b58e7dc890fa5e3a": {
          "model_module": "@jupyter-widgets/controls",
          "model_module_version": "1.5.0",
          "model_name": "FloatProgressModel",
          "state": {
            "_dom_classes": [],
            "_model_module": "@jupyter-widgets/controls",
            "_model_module_version": "1.5.0",
            "_model_name": "FloatProgressModel",
            "_view_count": null,
            "_view_module": "@jupyter-widgets/controls",
            "_view_module_version": "1.5.0",
            "_view_name": "ProgressView",
            "bar_style": "",
            "description": "",
            "description_tooltip": null,
            "layout": "IPY_MODEL_6e81d9b7321243618f3ba4f65fcb4830",
            "max": 36,
            "min": 0,
            "orientation": "horizontal",
            "style": "IPY_MODEL_2a92e39180e34fe6b2cfcaa4f5cfc14c",
            "value": 35
          }
        },
        "6e81d9b7321243618f3ba4f65fcb4830": {
          "model_module": "@jupyter-widgets/base",
          "model_module_version": "1.2.0",
          "model_name": "LayoutModel",
          "state": {
            "_model_module": "@jupyter-widgets/base",
            "_model_module_version": "1.2.0",
            "_model_name": "LayoutModel",
            "_view_count": null,
            "_view_module": "@jupyter-widgets/base",
            "_view_module_version": "1.2.0",
            "_view_name": "LayoutView",
            "align_content": null,
            "align_items": null,
            "align_self": null,
            "border": null,
            "bottom": null,
            "display": null,
            "flex": null,
            "flex_flow": null,
            "grid_area": null,
            "grid_auto_columns": null,
            "grid_auto_flow": null,
            "grid_auto_rows": null,
            "grid_column": null,
            "grid_gap": null,
            "grid_row": null,
            "grid_template_areas": null,
            "grid_template_columns": null,
            "grid_template_rows": null,
            "height": null,
            "justify_content": null,
            "justify_items": null,
            "left": null,
            "margin": null,
            "max_height": null,
            "max_width": null,
            "min_height": null,
            "min_width": null,
            "object_fit": null,
            "object_position": null,
            "order": null,
            "overflow": null,
            "overflow_x": null,
            "overflow_y": null,
            "padding": null,
            "right": null,
            "top": null,
            "visibility": null,
            "width": null
          }
        },
        "70fc54f08cd24a8aad2e0e2971aafd13": {
          "model_module": "@jupyter-widgets/base",
          "model_module_version": "1.2.0",
          "model_name": "LayoutModel",
          "state": {
            "_model_module": "@jupyter-widgets/base",
            "_model_module_version": "1.2.0",
            "_model_name": "LayoutModel",
            "_view_count": null,
            "_view_module": "@jupyter-widgets/base",
            "_view_module_version": "1.2.0",
            "_view_name": "LayoutView",
            "align_content": null,
            "align_items": null,
            "align_self": null,
            "border": null,
            "bottom": null,
            "display": null,
            "flex": null,
            "flex_flow": null,
            "grid_area": null,
            "grid_auto_columns": null,
            "grid_auto_flow": null,
            "grid_auto_rows": null,
            "grid_column": null,
            "grid_gap": null,
            "grid_row": null,
            "grid_template_areas": null,
            "grid_template_columns": null,
            "grid_template_rows": null,
            "height": null,
            "justify_content": null,
            "justify_items": null,
            "left": null,
            "margin": null,
            "max_height": null,
            "max_width": null,
            "min_height": null,
            "min_width": null,
            "object_fit": null,
            "object_position": null,
            "order": null,
            "overflow": null,
            "overflow_x": null,
            "overflow_y": null,
            "padding": null,
            "right": null,
            "top": null,
            "visibility": null,
            "width": null
          }
        },
        "73f05c40b6c44858a35d8884031c664e": {
          "model_module": "@jupyter-widgets/controls",
          "model_module_version": "1.5.0",
          "model_name": "HTMLModel",
          "state": {
            "_dom_classes": [],
            "_model_module": "@jupyter-widgets/controls",
            "_model_module_version": "1.5.0",
            "_model_name": "HTMLModel",
            "_view_count": null,
            "_view_module": "@jupyter-widgets/controls",
            "_view_module_version": "1.5.0",
            "_view_name": "HTMLView",
            "description": "",
            "description_tooltip": null,
            "layout": "IPY_MODEL_5fcac8171c9642c0bf8931bf9aa7214d",
            "placeholder": "​",
            "style": "IPY_MODEL_eafedcea81ba451687176aa6c973cf6c",
            "value": " 97%"
          }
        },
        "8c7a9995de214ef39d04a85059543261": {
          "model_module": "@jupyter-widgets/base",
          "model_module_version": "1.2.0",
          "model_name": "LayoutModel",
          "state": {
            "_model_module": "@jupyter-widgets/base",
            "_model_module_version": "1.2.0",
            "_model_name": "LayoutModel",
            "_view_count": null,
            "_view_module": "@jupyter-widgets/base",
            "_view_module_version": "1.2.0",
            "_view_name": "LayoutView",
            "align_content": null,
            "align_items": null,
            "align_self": null,
            "border": null,
            "bottom": null,
            "display": null,
            "flex": null,
            "flex_flow": null,
            "grid_area": null,
            "grid_auto_columns": null,
            "grid_auto_flow": null,
            "grid_auto_rows": null,
            "grid_column": null,
            "grid_gap": null,
            "grid_row": null,
            "grid_template_areas": null,
            "grid_template_columns": null,
            "grid_template_rows": null,
            "height": null,
            "justify_content": null,
            "justify_items": null,
            "left": null,
            "margin": null,
            "max_height": null,
            "max_width": null,
            "min_height": null,
            "min_width": null,
            "object_fit": null,
            "object_position": null,
            "order": null,
            "overflow": null,
            "overflow_x": null,
            "overflow_y": null,
            "padding": null,
            "right": null,
            "top": null,
            "visibility": null,
            "width": null
          }
        },
        "ac9ca65cf8d644b2b867a6c175a1947b": {
          "model_module": "@jupyter-widgets/controls",
          "model_module_version": "1.5.0",
          "model_name": "HBoxModel",
          "state": {
            "_dom_classes": [],
            "_model_module": "@jupyter-widgets/controls",
            "_model_module_version": "1.5.0",
            "_model_name": "HBoxModel",
            "_view_count": null,
            "_view_module": "@jupyter-widgets/controls",
            "_view_module_version": "1.5.0",
            "_view_name": "HBoxView",
            "box_style": "",
            "children": [
              "IPY_MODEL_73f05c40b6c44858a35d8884031c664e",
              "IPY_MODEL_6075554469b94863b58e7dc890fa5e3a",
              "IPY_MODEL_d181486edf064a1b85530bdfe199b0b2"
            ],
            "layout": "IPY_MODEL_8c7a9995de214ef39d04a85059543261"
          }
        },
        "d181486edf064a1b85530bdfe199b0b2": {
          "model_module": "@jupyter-widgets/controls",
          "model_module_version": "1.5.0",
          "model_name": "HTMLModel",
          "state": {
            "_dom_classes": [],
            "_model_module": "@jupyter-widgets/controls",
            "_model_module_version": "1.5.0",
            "_model_name": "HTMLModel",
            "_view_count": null,
            "_view_module": "@jupyter-widgets/controls",
            "_view_module_version": "1.5.0",
            "_view_name": "HTMLView",
            "description": "",
            "description_tooltip": null,
            "layout": "IPY_MODEL_70fc54f08cd24a8aad2e0e2971aafd13",
            "placeholder": "​",
            "style": "IPY_MODEL_0d5ad807bbc44252859c6a7caaab14e5",
            "value": " 35/36 [45:11&lt;01:27, 87.76s/it]"
          }
        },
        "eafedcea81ba451687176aa6c973cf6c": {
          "model_module": "@jupyter-widgets/controls",
          "model_module_version": "1.5.0",
          "model_name": "DescriptionStyleModel",
          "state": {
            "_model_module": "@jupyter-widgets/controls",
            "_model_module_version": "1.5.0",
            "_model_name": "DescriptionStyleModel",
            "_view_count": null,
            "_view_module": "@jupyter-widgets/base",
            "_view_module_version": "1.2.0",
            "_view_name": "StyleView",
            "description_width": ""
          }
        }
      }
    }
  },
  "nbformat": 4,
  "nbformat_minor": 0
}
