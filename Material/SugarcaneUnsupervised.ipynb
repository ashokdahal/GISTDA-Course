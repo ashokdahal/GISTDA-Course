{
  "cells": [
    {
      "cell_type": "code",
      "source": [
        "!pip install openeo -q"
      ],
      "metadata": {
        "id": "RhrRRSxzlmGp"
      },
      "id": "RhrRRSxzlmGp",
      "execution_count": 1,
      "outputs": []
    },
    {
      "cell_type": "code",
      "execution_count": 2,
      "metadata": {
        "tags": [
          "parameters"
        ],
        "colab": {
          "base_uri": "https://localhost:8080/"
        },
        "id": "FTWK8K9vlj2D",
        "outputId": "4a21154b-a71f-42cd-ca87-9e6229406562"
      },
      "outputs": [
        {
          "output_type": "stream",
          "name": "stdout",
          "text": [
            "openeo 0.44.0\n"
          ]
        }
      ],
      "source": [
        "# If running locally, uncomment:\n",
        "# !pip install --quiet openeo geopandas shapely pandas matplotlib scikit-learn statsmodels\n",
        "\n",
        "import json, os, datetime as dt\n",
        "import numpy as np\n",
        "import pandas as pd\n",
        "import matplotlib.pyplot as plt\n",
        "from shapely.geometry import shape\n",
        "import openeo\n",
        "from openeo.processes import array_interpolate_linear\n",
        "\n",
        "print('openeo', openeo.__version__)"
      ],
      "id": "FTWK8K9vlj2D"
    },
    {
      "cell_type": "markdown",
      "metadata": {
        "id": "PJQgbFBHlj2E"
      },
      "source": [
        "## 1) Connect & authenticate to CDSE openEO back‑end\n",
        "Pick the endpoint. If you want to avoid using partner resources, use the **non‑federated** endpoint."
      ],
      "id": "PJQgbFBHlj2E"
    },
    {
      "cell_type": "code",
      "execution_count": 3,
      "metadata": {
        "colab": {
          "base_uri": "https://localhost:8080/",
          "height": 70
        },
        "id": "zbwwJ1_Qlj2E",
        "outputId": "bb1bfce2-1ce3-4495-f29e-c30db25b40c0"
      },
      "outputs": [
        {
          "output_type": "display_data",
          "data": {
            "text/html": [
              "Visit <a href=\"https://identity.dataspace.copernicus.eu/auth/realms/CDSE/device?user_code=YTPH-SCCA\" title=\"Authenticate at https://identity.dataspace.copernicus.eu/auth/realms/CDSE/device?user_code=YTPH-SCCA\" target=\"_blank\" rel=\"noopener noreferrer\">https://identity.dataspace.copernicus.eu/auth/realms/CDSE/device?user_code=YTPH-SCCA</a> <a href=\"#\" onclick=\"navigator.clipboard.writeText('https://identity.dataspace.copernicus.eu/auth/realms/CDSE/device?user_code=YTPH-SCCA');return false;\" title=\"Copy authentication URL to clipboard\">&#128203;</a> to authenticate."
            ]
          },
          "metadata": {}
        },
        {
          "output_type": "display_data",
          "data": {
            "text/html": [
              "✅ Authorized successfully"
            ]
          },
          "metadata": {}
        },
        {
          "output_type": "stream",
          "name": "stdout",
          "text": [
            "Authenticated using device code flow.\n"
          ]
        }
      ],
      "source": [
        "conn = openeo.connect('openeo.dataspace.copernicus.eu').authenticate_oidc()"
      ],
      "id": "zbwwJ1_Qlj2E"
    },
    {
      "cell_type": "markdown",
      "metadata": {
        "id": "E9SBxXUilj2F"
      },
      "source": [
        "## 2) Discover collections & processes\n",
        "We’ll use **SENTINEL2_L2A** (surface reflectance) and the built‑in **ndvi** process."
      ],
      "id": "E9SBxXUilj2F"
    },
    {
      "cell_type": "code",
      "execution_count": 4,
      "metadata": {
        "colab": {
          "base_uri": "https://localhost:8080/"
        },
        "id": "eABIWIcVlj2F",
        "outputId": "1ff721b0-645b-449c-c979-289e56d38379"
      },
      "outputs": [
        {
          "output_type": "execute_result",
          "data": {
            "text/plain": [
              "(True, 20)"
            ]
          },
          "metadata": {},
          "execution_count": 4
        }
      ],
      "source": [
        "collections = conn.list_collection_ids()\n",
        "'SENTINEL2_L2A' in collections, len(collections)"
      ],
      "id": "eABIWIcVlj2F"
    },
    {
      "cell_type": "code",
      "execution_count": 5,
      "metadata": {
        "colab": {
          "base_uri": "https://localhost:8080/",
          "height": 1000
        },
        "id": "rAOsXi1Ilj2F",
        "outputId": "6af2c6f0-77e2-4792-d8c9-9304152ea614"
      },
      "outputs": [
        {
          "output_type": "execute_result",
          "data": {
            "text/plain": [
              "{'assets': {'thumbnail': {'href': 'https://www.esa.int/var/esa/storage/images/esa_multimedia/images/2022/07/tallinn_estonia/24383281-1-eng-GB/Tallinn_Estonia_pillars.jpg',\n",
              "   'roles': ['thumbnail'],\n",
              "   'title': 'Sentinel 2 L2A',\n",
              "   'type': 'image/png'}},\n",
              " 'cube:dimensions': {'bands': {'type': 'bands',\n",
              "   'values': ['B01',\n",
              "    'B02',\n",
              "    'B03',\n",
              "    'B04',\n",
              "    'B05',\n",
              "    'B06',\n",
              "    'B07',\n",
              "    'B08',\n",
              "    'B8A',\n",
              "    'B09',\n",
              "    'B11',\n",
              "    'B12',\n",
              "    'WVP',\n",
              "    'AOT',\n",
              "    'SCL',\n",
              "    'sunAzimuthAngles',\n",
              "    'sunZenithAngles',\n",
              "    'viewAzimuthMean',\n",
              "    'viewZenithMean']},\n",
              "  't': {'extent': ['2015-07-04T00:00:00Z', None], 'type': 'temporal'},\n",
              "  'x': {'axis': 'x',\n",
              "   'extent': [-180, 180],\n",
              "   'reference_system': {'$schema': 'https://proj.org/schemas/v0.2/projjson.schema.json',\n",
              "    'area': 'World',\n",
              "    'bbox': {'east_longitude': 180,\n",
              "     'north_latitude': 90,\n",
              "     'south_latitude': -90,\n",
              "     'west_longitude': -180},\n",
              "    'coordinate_system': {'axis': [{'abbreviation': 'Lat',\n",
              "       'direction': 'north',\n",
              "       'name': 'Geodetic latitude',\n",
              "       'unit': 'degree'},\n",
              "      {'abbreviation': 'Lon',\n",
              "       'direction': 'east',\n",
              "       'name': 'Geodetic longitude',\n",
              "       'unit': 'degree'}],\n",
              "     'subtype': 'ellipsoidal'},\n",
              "    'datum': {'ellipsoid': {'inverse_flattening': 298.257223563,\n",
              "      'name': 'WGS 84',\n",
              "      'semi_major_axis': 6378137},\n",
              "     'name': 'World Geodetic System 1984',\n",
              "     'type': 'GeodeticReferenceFrame'},\n",
              "    'id': {'authority': 'OGC', 'code': 'Auto42001', 'version': '1.3'},\n",
              "    'name': 'AUTO 42001 (Universal Transverse Mercator)',\n",
              "    'type': 'GeodeticCRS'},\n",
              "   'step': 10,\n",
              "   'type': 'spatial'},\n",
              "  'y': {'axis': 'y',\n",
              "   'extent': [-56, 83],\n",
              "   'reference_system': {'$schema': 'https://proj.org/schemas/v0.2/projjson.schema.json',\n",
              "    'area': 'World',\n",
              "    'bbox': {'east_longitude': 180,\n",
              "     'north_latitude': 90,\n",
              "     'south_latitude': -90,\n",
              "     'west_longitude': -180},\n",
              "    'coordinate_system': {'axis': [{'abbreviation': 'Lat',\n",
              "       'direction': 'north',\n",
              "       'name': 'Geodetic latitude',\n",
              "       'unit': 'degree'},\n",
              "      {'abbreviation': 'Lon',\n",
              "       'direction': 'east',\n",
              "       'name': 'Geodetic longitude',\n",
              "       'unit': 'degree'}],\n",
              "     'subtype': 'ellipsoidal'},\n",
              "    'datum': {'ellipsoid': {'inverse_flattening': 298.257223563,\n",
              "      'name': 'WGS 84',\n",
              "      'semi_major_axis': 6378137},\n",
              "     'name': 'World Geodetic System 1984',\n",
              "     'type': 'GeodeticReferenceFrame'},\n",
              "    'id': {'authority': 'OGC', 'code': 'Auto42001', 'version': '1.3'},\n",
              "    'name': 'AUTO 42001 (Universal Transverse Mercator)',\n",
              "    'type': 'GeodeticCRS'},\n",
              "   'step': 10,\n",
              "   'type': 'spatial'}},\n",
              " 'description': 'SENTINEL-2 is a wide-swath, high-resolution, multi-spectral imaging mission, supporting Copernicus Land Monitoring studies, including the monitoring of vegetation, soil and water cover, as well as observation of inland waterways and coastal areas. The SENTINEL-2 Multispectral Instrument (MSI) samples 13 spectral bands: four bands at 10 metres, six bands at 20 metres and three bands at 60 metres spatial resolution.\\n The level 2A data is atmospherically corrected using Sen2Cor.',\n",
              " 'extent': {'spatial': {'bbox': [[-180, -56, 180, 83]]},\n",
              "  'temporal': {'interval': [['2015-07-04T00:00:00Z', None]]}},\n",
              " 'id': 'SENTINEL2_L2A',\n",
              " 'keywords': ['COPERNICUS',\n",
              "  'ESA',\n",
              "  'Orthoimagery',\n",
              "  'Sentinel-2',\n",
              "  'MSI',\n",
              "  'Level-2A',\n",
              "  'Radiometry',\n",
              "  'Plant Resource',\n",
              "  'TOC'],\n",
              " 'license': 'proprietary',\n",
              " 'links': [{'href': 'https://sentinels.copernicus.eu/documents/247904/690755/Sentinel_Data_Legal_Notice',\n",
              "   'rel': 'license',\n",
              "   'type': 'application/pdf'},\n",
              "  {'href': 'https://documentation.dataspace.copernicus.eu/Data/SentinelMissions/Sentinel2.html#sentinel-2-level-2a-top-of-canopy-toc',\n",
              "   'rel': 'alternate',\n",
              "   'type': 'application/html'},\n",
              "  {'href': 'https://dataspace.copernicus.eu/browser/?zoom=11&lat=45.36638&lng=12.49832&themeId=DEFAULT-THEME&visualizationUrl=https%3A%2F%2Fsh.dataspace.copernicus.eu%2Fogc%2Fwms%2F28b654e7-8912-4e59-9e58-85b58d768b3a&datasetId=S2_L2A_CDAS&fromTime=2023-02-07T00%3A00%3A00.000Z&toTime=2023-02-07T23%3A59%3A59.999Z&layerId=1_TRUE_COLOR&demSource3D=%22MAPZEN%22&cloudCoverage=10',\n",
              "   'rel': 'browser',\n",
              "   'title': 'CDSE Data-Browser'},\n",
              "  {'href': 'https://catalogue.dataspace.copernicus.eu/resto/api/collections/Sentinel2/search.json?cloudCover=[0,10]&productType=S2MSI2A&startDate=2022-06-11&completionDate=2022-06-22&maxRecords=10',\n",
              "   'rel': 'opensearch',\n",
              "   'title': 'Opensearch product query'},\n",
              "  {'href': 'https://sentinels.copernicus.eu/web/sentinel/user-guides/sentinel-2-msi/product-types/level-2a',\n",
              "   'rel': 'about',\n",
              "   'title': 'User guide'},\n",
              "  {'href': 'https://services.sentinel-hub.com/ogc/wmts/7d34803f-511c-4caf-9438-6d72f32c8174',\n",
              "   'rel': 'wmts',\n",
              "   'title': 'Web Map Tile Service',\n",
              "   'wmts:dimensions': {'warnings': True},\n",
              "   'wmts:layer': 'TRUE-COLOR'},\n",
              "  {'href': 'https://openeo.dataspace.copernicus.eu/openeo/1.2/collections',\n",
              "   'rel': 'root'},\n",
              "  {'href': 'https://openeo.dataspace.copernicus.eu/openeo/1.2/collections',\n",
              "   'rel': 'parent'},\n",
              "  {'href': 'https://openeo.dataspace.copernicus.eu/openeo/1.2/collections/SENTINEL2_L2A',\n",
              "   'rel': 'self'}],\n",
              " 'mission': 'Sentinel-2',\n",
              " 'name': 'SENTINEL2_L2A',\n",
              " 'providers': [{'name': 'ESA',\n",
              "   'roles': ['producer'],\n",
              "   'url': 'https://esa.int/'},\n",
              "  {'name': 'CDSE',\n",
              "   'roles': ['processor', 'host'],\n",
              "   'url': 'https://dataspace.copernicus.eu/'}],\n",
              " 'stac_extensions': ['https://stac-extensions.github.io/datacube/v2.2.0/schema.json',\n",
              "  'https://stac-extensions.github.io/eo/v1.1.0/schema.json'],\n",
              " 'stac_version': '0.9.0',\n",
              " 'summaries': {'bands': [{'eo:center_wavelength': 0.4427,\n",
              "    'eo:common_name': 'coastal',\n",
              "    'name': 'B01'},\n",
              "   {'eo:center_wavelength': 0.4924, 'eo:common_name': 'blue', 'name': 'B02'},\n",
              "   {'eo:center_wavelength': 0.5598, 'eo:common_name': 'green', 'name': 'B03'},\n",
              "   {'eo:center_wavelength': 0.6646, 'eo:common_name': 'red', 'name': 'B04'},\n",
              "   {'eo:center_wavelength': 0.7041, 'name': 'B05'},\n",
              "   {'eo:center_wavelength': 0.7405, 'name': 'B06'},\n",
              "   {'eo:center_wavelength': 0.7828, 'name': 'B07'},\n",
              "   {'eo:center_wavelength': 0.8328, 'eo:common_name': 'nir', 'name': 'B08'},\n",
              "   {'eo:center_wavelength': 0.8647, 'eo:common_name': 'nir08', 'name': 'B8A'},\n",
              "   {'eo:center_wavelength': 0.9451, 'eo:common_name': 'nir09', 'name': 'B09'},\n",
              "   {'eo:center_wavelength': 1.6137, 'eo:common_name': 'swir16', 'name': 'B11'},\n",
              "   {'eo:center_wavelength': 2.2024, 'eo:common_name': 'swir22', 'name': 'B12'},\n",
              "   {'name': 'WVP'},\n",
              "   {'name': 'AOT'},\n",
              "   {'name': 'SCL'},\n",
              "   {'name': 'sunAzimuthAngles'},\n",
              "   {'name': 'sunZenithAngles'},\n",
              "   {'name': 'viewAzimuthMean'},\n",
              "   {'name': 'viewZenithMean'}],\n",
              "  'constellation': ['sentinel-2'],\n",
              "  'eo:bands': [{'aliases': ['IMG_DATA_Band_B01_60m_Tile1_Data'],\n",
              "    'center_wavelength': 0.4427,\n",
              "    'common_name': 'coastal',\n",
              "    'full_width_half_max': 0.021,\n",
              "    'gsd': 60,\n",
              "    'name': 'B01',\n",
              "    'offset': 0,\n",
              "    'scale': 0.0001,\n",
              "    'type': 'int16',\n",
              "    'unit': '1'},\n",
              "   {'aliases': ['IMG_DATA_Band_B02_10m_Tile1_Data'],\n",
              "    'center_wavelength': 0.4924,\n",
              "    'common_name': 'blue',\n",
              "    'full_width_half_max': 0.066,\n",
              "    'gsd': 10,\n",
              "    'name': 'B02',\n",
              "    'offset': 0,\n",
              "    'scale': 0.0001,\n",
              "    'type': 'int16',\n",
              "    'unit': '1'},\n",
              "   {'aliases': ['IMG_DATA_Band_B03_10m_Tile1_Data'],\n",
              "    'center_wavelength': 0.5598,\n",
              "    'common_name': 'green',\n",
              "    'full_width_half_max': 0.036,\n",
              "    'gsd': 10,\n",
              "    'name': 'B03',\n",
              "    'offset': 0,\n",
              "    'scale': 0.0001,\n",
              "    'type': 'int16',\n",
              "    'unit': '1'},\n",
              "   {'aliases': ['IMG_DATA_Band_B04_10m_Tile1_Data'],\n",
              "    'center_wavelength': 0.6646,\n",
              "    'common_name': 'red',\n",
              "    'full_width_half_max': 0.031,\n",
              "    'gsd': 10,\n",
              "    'name': 'B04',\n",
              "    'offset': 0,\n",
              "    'scale': 0.0001,\n",
              "    'type': 'int16',\n",
              "    'unit': '1'},\n",
              "   {'aliases': ['IMG_DATA_Band_B05_20m_Tile1_Data'],\n",
              "    'center_wavelength': 0.7041,\n",
              "    'full_width_half_max': 0.015,\n",
              "    'gsd': 20,\n",
              "    'name': 'B05',\n",
              "    'offset': 0,\n",
              "    'scale': 0.0001,\n",
              "    'type': 'int16',\n",
              "    'unit': '1'},\n",
              "   {'aliases': ['IMG_DATA_Band_B06_20m_Tile1_Data'],\n",
              "    'center_wavelength': 0.7405,\n",
              "    'full_width_half_max': 0.015,\n",
              "    'gsd': 20,\n",
              "    'name': 'B06',\n",
              "    'offset': 0,\n",
              "    'scale': 0.0001,\n",
              "    'type': 'int16',\n",
              "    'unit': '1'},\n",
              "   {'aliases': ['IMG_DATA_Band_B07_20m_Tile1_Data'],\n",
              "    'center_wavelength': 0.7828,\n",
              "    'full_width_half_max': 0.02,\n",
              "    'gsd': 20,\n",
              "    'name': 'B07',\n",
              "    'offset': 0,\n",
              "    'scale': 0.0001,\n",
              "    'type': 'int16',\n",
              "    'unit': '1'},\n",
              "   {'aliases': ['IMG_DATA_Band_B08_10m_Tile1_Data'],\n",
              "    'center_wavelength': 0.8328,\n",
              "    'common_name': 'nir',\n",
              "    'full_width_half_max': 0.106,\n",
              "    'gsd': 10,\n",
              "    'name': 'B08',\n",
              "    'offset': 0,\n",
              "    'scale': 0.0001,\n",
              "    'type': 'int16',\n",
              "    'unit': '1'},\n",
              "   {'aliases': ['IMG_DATA_Band_B8A_20m_Tile1_Data'],\n",
              "    'center_wavelength': 0.8647,\n",
              "    'common_name': 'nir08',\n",
              "    'full_width_half_max': 0.021,\n",
              "    'gsd': 20,\n",
              "    'name': 'B8A',\n",
              "    'offset': 0,\n",
              "    'scale': 0.0001,\n",
              "    'type': 'int16',\n",
              "    'unit': '1'},\n",
              "   {'aliases': ['IMG_DATA_Band_B09_60m_Tile1_Data'],\n",
              "    'center_wavelength': 0.9451,\n",
              "    'common_name': 'nir09',\n",
              "    'full_width_half_max': 0.02,\n",
              "    'gsd': 60,\n",
              "    'name': 'B09',\n",
              "    'offset': 0,\n",
              "    'scale': 0.0001,\n",
              "    'type': 'int16',\n",
              "    'unit': '1'},\n",
              "   {'aliases': ['IMG_DATA_Band_B11_20m_Tile1_Data'],\n",
              "    'center_wavelength': 1.6137,\n",
              "    'common_name': 'swir16',\n",
              "    'full_width_half_max': 0.091,\n",
              "    'gsd': 20,\n",
              "    'name': 'B11',\n",
              "    'offset': 0,\n",
              "    'scale': 0.0001,\n",
              "    'type': 'int16',\n",
              "    'unit': '1'},\n",
              "   {'aliases': ['IMG_DATA_Band_B12_20m_Tile1_Data'],\n",
              "    'center_wavelength': 2.2024,\n",
              "    'common_name': 'swir22',\n",
              "    'full_width_half_max': 0.175,\n",
              "    'gsd': 20,\n",
              "    'name': 'B12',\n",
              "    'offset': 0,\n",
              "    'scale': 0.0001,\n",
              "    'type': 'int16',\n",
              "    'unit': '1'},\n",
              "   {'aliases': ['IMG_DATA_Band_WVP_10m_Tile1_Data'], 'name': 'WVP'},\n",
              "   {'aliases': ['IMG_DATA_Band_AOT_20m_Tile1_Data'], 'name': 'AOT'},\n",
              "   {'aliases': ['IMG_DATA_Band_SCL_20m_Tile1_Data'], 'gsd': 20, 'name': 'SCL'},\n",
              "   {'aliases': ['S2_Level-2A_Tile1_Metadata##0', 'SAA'],\n",
              "    'name': 'sunAzimuthAngles',\n",
              "    'unit': 'deg'},\n",
              "   {'aliases': ['S2_Level-2A_Tile1_Metadata##1', 'SZA'],\n",
              "    'name': 'sunZenithAngles',\n",
              "    'unit': 'deg'},\n",
              "   {'aliases': ['S2_Level-2A_Tile1_Metadata##2',\n",
              "     'VAA',\n",
              "     'approximateViewAzimuth'],\n",
              "    'name': 'viewAzimuthMean',\n",
              "    'unit': 'deg'},\n",
              "   {'aliases': ['S2_Level-2A_Tile1_Metadata##3',\n",
              "     'VZA',\n",
              "     'approximateViewZenith'],\n",
              "    'name': 'viewZenithMean',\n",
              "    'unit': 'deg'}],\n",
              "  'eo:cloud_cover': {'maximum': 100, 'minimum': 0},\n",
              "  'gsd': [10],\n",
              "  'instrument': ['msi'],\n",
              "  'platform': ['sentinel-2a', 'sentinel-2b'],\n",
              "  'processingBaseline': {},\n",
              "  'productIdentifier': {},\n",
              "  'tileId': {}},\n",
              " 'title': 'Sentinel-2 L2A'}"
            ],
            "text/html": [
              "\n",
              "    <script>\n",
              "    if (!window.customElements || !window.customElements.get('openeo-collection')) {\n",
              "        var el = document.createElement('script');\n",
              "        el.src = \"https://cdn.jsdelivr.net/npm/@openeo/vue-components@2/assets/openeo.min.js\";\n",
              "        document.head.appendChild(el);\n",
              "\n",
              "        var font = document.createElement('font');\n",
              "        font.as = \"font\";\n",
              "        font.type = \"font/woff2\";\n",
              "        font.crossOrigin = true;\n",
              "        font.href = \"https://use.fontawesome.com/releases/v5.13.0/webfonts/fa-solid-900.woff2\"\n",
              "        document.head.appendChild(font);\n",
              "    }\n",
              "    </script>\n",
              "    <openeo-collection>\n",
              "        <script type=\"application/json\">{\"federation\": null, \"mapOptions\": {}, \"data\": {\"assets\": {\"thumbnail\": {\"href\": \"https://www.esa.int/var/esa/storage/images/esa_multimedia/images/2022/07/tallinn_estonia/24383281-1-eng-GB/Tallinn_Estonia_pillars.jpg\", \"roles\": [\"thumbnail\"], \"title\": \"Sentinel 2 L2A\", \"type\": \"image/png\"}}, \"cube:dimensions\": {\"bands\": {\"type\": \"bands\", \"values\": [\"B01\", \"B02\", \"B03\", \"B04\", \"B05\", \"B06\", \"B07\", \"B08\", \"B8A\", \"B09\", \"B11\", \"B12\", \"WVP\", \"AOT\", \"SCL\", \"sunAzimuthAngles\", \"sunZenithAngles\", \"viewAzimuthMean\", \"viewZenithMean\"]}, \"t\": {\"extent\": [\"2015-07-04T00:00:00Z\", null], \"type\": \"temporal\"}, \"x\": {\"axis\": \"x\", \"extent\": [-180, 180], \"reference_system\": {\"$schema\": \"https://proj.org/schemas/v0.2/projjson.schema.json\", \"area\": \"World\", \"bbox\": {\"east_longitude\": 180, \"north_latitude\": 90, \"south_latitude\": -90, \"west_longitude\": -180}, \"coordinate_system\": {\"axis\": [{\"abbreviation\": \"Lat\", \"direction\": \"north\", \"name\": \"Geodetic latitude\", \"unit\": \"degree\"}, {\"abbreviation\": \"Lon\", \"direction\": \"east\", \"name\": \"Geodetic longitude\", \"unit\": \"degree\"}], \"subtype\": \"ellipsoidal\"}, \"datum\": {\"ellipsoid\": {\"inverse_flattening\": 298.257223563, \"name\": \"WGS 84\", \"semi_major_axis\": 6378137}, \"name\": \"World Geodetic System 1984\", \"type\": \"GeodeticReferenceFrame\"}, \"id\": {\"authority\": \"OGC\", \"code\": \"Auto42001\", \"version\": \"1.3\"}, \"name\": \"AUTO 42001 (Universal Transverse Mercator)\", \"type\": \"GeodeticCRS\"}, \"step\": 10, \"type\": \"spatial\"}, \"y\": {\"axis\": \"y\", \"extent\": [-56, 83], \"reference_system\": {\"$schema\": \"https://proj.org/schemas/v0.2/projjson.schema.json\", \"area\": \"World\", \"bbox\": {\"east_longitude\": 180, \"north_latitude\": 90, \"south_latitude\": -90, \"west_longitude\": -180}, \"coordinate_system\": {\"axis\": [{\"abbreviation\": \"Lat\", \"direction\": \"north\", \"name\": \"Geodetic latitude\", \"unit\": \"degree\"}, {\"abbreviation\": \"Lon\", \"direction\": \"east\", \"name\": \"Geodetic longitude\", \"unit\": \"degree\"}], \"subtype\": \"ellipsoidal\"}, \"datum\": {\"ellipsoid\": {\"inverse_flattening\": 298.257223563, \"name\": \"WGS 84\", \"semi_major_axis\": 6378137}, \"name\": \"World Geodetic System 1984\", \"type\": \"GeodeticReferenceFrame\"}, \"id\": {\"authority\": \"OGC\", \"code\": \"Auto42001\", \"version\": \"1.3\"}, \"name\": \"AUTO 42001 (Universal Transverse Mercator)\", \"type\": \"GeodeticCRS\"}, \"step\": 10, \"type\": \"spatial\"}}, \"description\": \"SENTINEL-2 is a wide-swath, high-resolution, multi-spectral imaging mission, supporting Copernicus Land Monitoring studies, including the monitoring of vegetation, soil and water cover, as well as observation of inland waterways and coastal areas. The SENTINEL-2 Multispectral Instrument (MSI) samples 13 spectral bands: four bands at 10 metres, six bands at 20 metres and three bands at 60 metres spatial resolution.\\n The level 2A data is atmospherically corrected using Sen2Cor.\", \"extent\": {\"spatial\": {\"bbox\": [[-180, -56, 180, 83]]}, \"temporal\": {\"interval\": [[\"2015-07-04T00:00:00Z\", null]]}}, \"id\": \"SENTINEL2_L2A\", \"keywords\": [\"COPERNICUS\", \"ESA\", \"Orthoimagery\", \"Sentinel-2\", \"MSI\", \"Level-2A\", \"Radiometry\", \"Plant Resource\", \"TOC\"], \"license\": \"proprietary\", \"links\": [{\"href\": \"https://sentinels.copernicus.eu/documents/247904/690755/Sentinel_Data_Legal_Notice\", \"rel\": \"license\", \"type\": \"application/pdf\"}, {\"href\": \"https://documentation.dataspace.copernicus.eu/Data/SentinelMissions/Sentinel2.html#sentinel-2-level-2a-top-of-canopy-toc\", \"rel\": \"alternate\", \"type\": \"application/html\"}, {\"href\": \"https://dataspace.copernicus.eu/browser/?zoom=11&lat=45.36638&lng=12.49832&themeId=DEFAULT-THEME&visualizationUrl=https%3A%2F%2Fsh.dataspace.copernicus.eu%2Fogc%2Fwms%2F28b654e7-8912-4e59-9e58-85b58d768b3a&datasetId=S2_L2A_CDAS&fromTime=2023-02-07T00%3A00%3A00.000Z&toTime=2023-02-07T23%3A59%3A59.999Z&layerId=1_TRUE_COLOR&demSource3D=%22MAPZEN%22&cloudCoverage=10\", \"rel\": \"browser\", \"title\": \"CDSE Data-Browser\"}, {\"href\": \"https://catalogue.dataspace.copernicus.eu/resto/api/collections/Sentinel2/search.json?cloudCover=[0,10]&productType=S2MSI2A&startDate=2022-06-11&completionDate=2022-06-22&maxRecords=10\", \"rel\": \"opensearch\", \"title\": \"Opensearch product query\"}, {\"href\": \"https://sentinels.copernicus.eu/web/sentinel/user-guides/sentinel-2-msi/product-types/level-2a\", \"rel\": \"about\", \"title\": \"User guide\"}, {\"href\": \"https://services.sentinel-hub.com/ogc/wmts/7d34803f-511c-4caf-9438-6d72f32c8174\", \"rel\": \"wmts\", \"title\": \"Web Map Tile Service\", \"wmts:dimensions\": {\"warnings\": true}, \"wmts:layer\": \"TRUE-COLOR\"}, {\"href\": \"https://openeo.dataspace.copernicus.eu/openeo/1.2/collections\", \"rel\": \"root\"}, {\"href\": \"https://openeo.dataspace.copernicus.eu/openeo/1.2/collections\", \"rel\": \"parent\"}, {\"href\": \"https://openeo.dataspace.copernicus.eu/openeo/1.2/collections/SENTINEL2_L2A\", \"rel\": \"self\"}], \"mission\": \"Sentinel-2\", \"name\": \"SENTINEL2_L2A\", \"providers\": [{\"name\": \"ESA\", \"roles\": [\"producer\"], \"url\": \"https://esa.int/\"}, {\"name\": \"CDSE\", \"roles\": [\"processor\", \"host\"], \"url\": \"https://dataspace.copernicus.eu/\"}], \"stac_extensions\": [\"https://stac-extensions.github.io/datacube/v2.2.0/schema.json\", \"https://stac-extensions.github.io/eo/v1.1.0/schema.json\"], \"stac_version\": \"0.9.0\", \"summaries\": {\"bands\": [{\"eo:center_wavelength\": 0.4427, \"eo:common_name\": \"coastal\", \"name\": \"B01\"}, {\"eo:center_wavelength\": 0.4924, \"eo:common_name\": \"blue\", \"name\": \"B02\"}, {\"eo:center_wavelength\": 0.5598, \"eo:common_name\": \"green\", \"name\": \"B03\"}, {\"eo:center_wavelength\": 0.6646, \"eo:common_name\": \"red\", \"name\": \"B04\"}, {\"eo:center_wavelength\": 0.7041, \"name\": \"B05\"}, {\"eo:center_wavelength\": 0.7405, \"name\": \"B06\"}, {\"eo:center_wavelength\": 0.7828, \"name\": \"B07\"}, {\"eo:center_wavelength\": 0.8328, \"eo:common_name\": \"nir\", \"name\": \"B08\"}, {\"eo:center_wavelength\": 0.8647, \"eo:common_name\": \"nir08\", \"name\": \"B8A\"}, {\"eo:center_wavelength\": 0.9451, \"eo:common_name\": \"nir09\", \"name\": \"B09\"}, {\"eo:center_wavelength\": 1.6137, \"eo:common_name\": \"swir16\", \"name\": \"B11\"}, {\"eo:center_wavelength\": 2.2024, \"eo:common_name\": \"swir22\", \"name\": \"B12\"}, {\"name\": \"WVP\"}, {\"name\": \"AOT\"}, {\"name\": \"SCL\"}, {\"name\": \"sunAzimuthAngles\"}, {\"name\": \"sunZenithAngles\"}, {\"name\": \"viewAzimuthMean\"}, {\"name\": \"viewZenithMean\"}], \"constellation\": [\"sentinel-2\"], \"eo:bands\": [{\"aliases\": [\"IMG_DATA_Band_B01_60m_Tile1_Data\"], \"center_wavelength\": 0.4427, \"common_name\": \"coastal\", \"full_width_half_max\": 0.021, \"gsd\": 60, \"name\": \"B01\", \"offset\": 0, \"scale\": 0.0001, \"type\": \"int16\", \"unit\": \"1\"}, {\"aliases\": [\"IMG_DATA_Band_B02_10m_Tile1_Data\"], \"center_wavelength\": 0.4924, \"common_name\": \"blue\", \"full_width_half_max\": 0.066, \"gsd\": 10, \"name\": \"B02\", \"offset\": 0, \"scale\": 0.0001, \"type\": \"int16\", \"unit\": \"1\"}, {\"aliases\": [\"IMG_DATA_Band_B03_10m_Tile1_Data\"], \"center_wavelength\": 0.5598, \"common_name\": \"green\", \"full_width_half_max\": 0.036, \"gsd\": 10, \"name\": \"B03\", \"offset\": 0, \"scale\": 0.0001, \"type\": \"int16\", \"unit\": \"1\"}, {\"aliases\": [\"IMG_DATA_Band_B04_10m_Tile1_Data\"], \"center_wavelength\": 0.6646, \"common_name\": \"red\", \"full_width_half_max\": 0.031, \"gsd\": 10, \"name\": \"B04\", \"offset\": 0, \"scale\": 0.0001, \"type\": \"int16\", \"unit\": \"1\"}, {\"aliases\": [\"IMG_DATA_Band_B05_20m_Tile1_Data\"], \"center_wavelength\": 0.7041, \"full_width_half_max\": 0.015, \"gsd\": 20, \"name\": \"B05\", \"offset\": 0, \"scale\": 0.0001, \"type\": \"int16\", \"unit\": \"1\"}, {\"aliases\": [\"IMG_DATA_Band_B06_20m_Tile1_Data\"], \"center_wavelength\": 0.7405, \"full_width_half_max\": 0.015, \"gsd\": 20, \"name\": \"B06\", \"offset\": 0, \"scale\": 0.0001, \"type\": \"int16\", \"unit\": \"1\"}, {\"aliases\": [\"IMG_DATA_Band_B07_20m_Tile1_Data\"], \"center_wavelength\": 0.7828, \"full_width_half_max\": 0.02, \"gsd\": 20, \"name\": \"B07\", \"offset\": 0, \"scale\": 0.0001, \"type\": \"int16\", \"unit\": \"1\"}, {\"aliases\": [\"IMG_DATA_Band_B08_10m_Tile1_Data\"], \"center_wavelength\": 0.8328, \"common_name\": \"nir\", \"full_width_half_max\": 0.106, \"gsd\": 10, \"name\": \"B08\", \"offset\": 0, \"scale\": 0.0001, \"type\": \"int16\", \"unit\": \"1\"}, {\"aliases\": [\"IMG_DATA_Band_B8A_20m_Tile1_Data\"], \"center_wavelength\": 0.8647, \"common_name\": \"nir08\", \"full_width_half_max\": 0.021, \"gsd\": 20, \"name\": \"B8A\", \"offset\": 0, \"scale\": 0.0001, \"type\": \"int16\", \"unit\": \"1\"}, {\"aliases\": [\"IMG_DATA_Band_B09_60m_Tile1_Data\"], \"center_wavelength\": 0.9451, \"common_name\": \"nir09\", \"full_width_half_max\": 0.02, \"gsd\": 60, \"name\": \"B09\", \"offset\": 0, \"scale\": 0.0001, \"type\": \"int16\", \"unit\": \"1\"}, {\"aliases\": [\"IMG_DATA_Band_B11_20m_Tile1_Data\"], \"center_wavelength\": 1.6137, \"common_name\": \"swir16\", \"full_width_half_max\": 0.091, \"gsd\": 20, \"name\": \"B11\", \"offset\": 0, \"scale\": 0.0001, \"type\": \"int16\", \"unit\": \"1\"}, {\"aliases\": [\"IMG_DATA_Band_B12_20m_Tile1_Data\"], \"center_wavelength\": 2.2024, \"common_name\": \"swir22\", \"full_width_half_max\": 0.175, \"gsd\": 20, \"name\": \"B12\", \"offset\": 0, \"scale\": 0.0001, \"type\": \"int16\", \"unit\": \"1\"}, {\"aliases\": [\"IMG_DATA_Band_WVP_10m_Tile1_Data\"], \"name\": \"WVP\"}, {\"aliases\": [\"IMG_DATA_Band_AOT_20m_Tile1_Data\"], \"name\": \"AOT\"}, {\"aliases\": [\"IMG_DATA_Band_SCL_20m_Tile1_Data\"], \"gsd\": 20, \"name\": \"SCL\"}, {\"aliases\": [\"S2_Level-2A_Tile1_Metadata##0\", \"SAA\"], \"name\": \"sunAzimuthAngles\", \"unit\": \"deg\"}, {\"aliases\": [\"S2_Level-2A_Tile1_Metadata##1\", \"SZA\"], \"name\": \"sunZenithAngles\", \"unit\": \"deg\"}, {\"aliases\": [\"S2_Level-2A_Tile1_Metadata##2\", \"VAA\", \"approximateViewAzimuth\"], \"name\": \"viewAzimuthMean\", \"unit\": \"deg\"}, {\"aliases\": [\"S2_Level-2A_Tile1_Metadata##3\", \"VZA\", \"approximateViewZenith\"], \"name\": \"viewZenithMean\", \"unit\": \"deg\"}], \"eo:cloud_cover\": {\"maximum\": 100, \"minimum\": 0}, \"gsd\": [10], \"instrument\": [\"msi\"], \"platform\": [\"sentinel-2a\", \"sentinel-2b\"], \"processingBaseline\": {}, \"productIdentifier\": {}, \"tileId\": {}}, \"title\": \"Sentinel-2 L2A\"}}</script>\n",
              "    </openeo-collection>\n",
              "    "
            ]
          },
          "metadata": {},
          "execution_count": 5
        }
      ],
      "source": [
        "conn.describe_collection('SENTINEL2_L2A')"
      ],
      "id": "rAOsXi1Ilj2F"
    },
    {
      "cell_type": "markdown",
      "metadata": {
        "id": "Ri28Falzlj2F"
      },
      "source": [
        "## 3) Define AOI & time window\n",
        "- Replace `FIELDS_GEOJSON` with your field polygons (EPSG:4326).\n",
        "- Adjust dates to your season (sugarcane can span 9–14 months)."
      ],
      "id": "Ri28Falzlj2F"
    },
    {
      "cell_type": "code",
      "execution_count": 6,
      "metadata": {
        "id": "IcM09HQwlj2F"
      },
      "outputs": [],
      "source": [
        "# Example: a single polygon (replace with your sugarcane block(s))\n",
        "FIELDS_GEOJSON = {\n",
        "  'type':'FeatureCollection',\n",
        "  'features':[\n",
        "     {'type':'Feature','properties':{'id':'field_1'}, 'geometry': {\n",
        "        'type':'Polygon',\n",
        "        'coordinates': [[[6.8317, 51.9796],[6.8425, 51.9796],[6.8425, 51.9728],[6.8317, 51.9728],[6.8317, 51.9796]]]\n",
        "     }}\n",
        "  ]\n",
        "}\n",
        "\n",
        "AOI = FIELDS_GEOJSON  # we’ll use these polygons for zonal stats\n",
        "START = '2024-01-01'\n",
        "END   = '2025-01-01'"
      ],
      "id": "IcM09HQwlj2F"
    },
    {
      "cell_type": "markdown",
      "metadata": {
        "id": "GCanHcW_lj2G"
      },
      "source": [
        "## 4) Build the Sentinel‑2 NDVI data cube\n",
        "Steps:\n",
        "1. Load S2 L2A (bands B04, B08, SCL).\n",
        "2. Mask clouds/snow using the Scene Classification Layer (SCL classes 8–11).\n",
        "3. Compute NDVI.\n",
        "4. Resample to a **regular 10‑day series** and linearly interpolate gaps."
      ],
      "id": "GCanHcW_lj2G"
    },
    {
      "cell_type": "code",
      "execution_count": 20,
      "metadata": {
        "colab": {
          "base_uri": "https://localhost:8080/"
        },
        "id": "3d6R0lgYlj2G",
        "outputId": "86320b26-bf6f-4912-f5e7-d90692967ff2"
      },
      "outputs": [
        {
          "output_type": "stream",
          "name": "stdout",
          "text": [
            "0:00:00 Job 'j-2508290225044fccad5558f973887104': send 'start'\n",
            "0:00:13 Job 'j-2508290225044fccad5558f973887104': created (progress 0%)\n",
            "0:00:19 Job 'j-2508290225044fccad5558f973887104': created (progress 0%)\n",
            "0:00:25 Job 'j-2508290225044fccad5558f973887104': created (progress 0%)\n",
            "0:00:33 Job 'j-2508290225044fccad5558f973887104': created (progress 0%)\n",
            "0:00:43 Job 'j-2508290225044fccad5558f973887104': created (progress 0%)\n",
            "0:00:55 Job 'j-2508290225044fccad5558f973887104': created (progress 0%)\n",
            "0:01:11 Job 'j-2508290225044fccad5558f973887104': running (progress N/A)\n",
            "0:01:30 Job 'j-2508290225044fccad5558f973887104': running (progress N/A)\n",
            "0:01:55 Job 'j-2508290225044fccad5558f973887104': running (progress N/A)\n",
            "0:02:25 Job 'j-2508290225044fccad5558f973887104': running (progress N/A)\n",
            "0:03:02 Job 'j-2508290225044fccad5558f973887104': running (progress N/A)\n",
            "0:03:49 Job 'j-2508290225044fccad5558f973887104': running (progress N/A)\n",
            "0:04:47 Job 'j-2508290225044fccad5558f973887104': running (progress N/A)\n",
            "0:05:48 Job 'j-2508290225044fccad5558f973887104': running (progress N/A)\n",
            "0:06:48 Job 'j-2508290225044fccad5558f973887104': finished (progress 100%)\n",
            "Downloaded NetCDF to sugarcanedata.nc\n"
          ]
        }
      ],
      "source": [
        "\n",
        "# --- A2. Load Sentinel-2 L2A: 10 m bands + SCL for masking\n",
        "cube = conn.load_collection(\n",
        "    \"SENTINEL2_L2A\",\n",
        "    spatial_extent=AOI,\n",
        "    temporal_extent=[START, END],\n",
        "    bands=[\"B02\",\"B03\",\"B04\",\"B08\",\"SCL\"]  # 10 m + SCL\n",
        ")\n",
        "\n",
        "# --- A3. Cloud/snow mask using SCL (8,9,10,11: cloud/cirrus/snow).  [5](https://www.researchgate.net/publication/358866180_An_Implementation_of_the_HDBSCAN_Clustering_Algorithm/fulltext/622ae21e97401151d20eba47/An-Implementation-of-the-HDBSCAN-Clustering-Algorithm.pdf)\n",
        "# Keep only where SCL is not in [8,9,10,11]\n",
        "def mask_scl(dc):\n",
        "    scl = dc.band(\"SCL\")\n",
        "    clear = (scl != 8) & (scl != 9) & (scl != 10) & (scl != 11)\n",
        "    return dc.mask(clear)\n",
        "\n",
        "cube = mask_scl(cube)\n",
        "\n",
        "# --- A4. Derive NDVI and keep 10 m bands\n",
        "ndvi = cube.ndvi(nir=\"B08\", red=\"B04\")  # built-in process  [7](https://docs.openeo.cloud/federation/backends/processes.html)\n",
        "cube = cube.filter_bands([\"B02\",\"B03\",\"B04\",\"B08\"]).merge_cubes(ndvi)\n",
        "\n",
        "# --- A5. Regularize in time: 10-day median + linear interpolation for missing timestamps.  [6](https://processes.openeo.org/)\n",
        "cube10 = cube.aggregate_temporal_period(period=\"dekad\", reducer=\"median\")\n",
        "\n",
        "\n",
        "# --- A6. Export to NetCDF and download\n",
        "cube10.execute_batch(title='Sugarcane data processing', outputfile='sugarcanedata.nc')\n",
        "print(\"Downloaded NetCDF to sugarcanedata.nc\")\n"
      ],
      "id": "3d6R0lgYlj2G"
    },
    {
      "cell_type": "code",
      "source": [
        "!pip install rioxarray -q"
      ],
      "metadata": {
        "id": "u_9S7Sdnq2RH"
      },
      "id": "u_9S7Sdnq2RH",
      "execution_count": null,
      "outputs": []
    },
    {
      "cell_type": "code",
      "source": [
        "# --- B0. Environment\n",
        "# pip install xarray dask[complete] rioxarray rasterio scikit-learn\n",
        "import os, numpy as np, pandas as pd, xarray as xr\n",
        "import dask\n",
        "import dask.array as da\n",
        "import rioxarray as rxr\n",
        "from sklearn.cluster import MiniBatchKMeans"
      ],
      "metadata": {
        "id": "RqpExXnOpXLA"
      },
      "id": "RqpExXnOpXLA",
      "execution_count": 22,
      "outputs": []
    },
    {
      "cell_type": "code",
      "source": [
        "ds = xr.open_dataset('sugarcanedata.nc', chunks=\"auto\")\n",
        "\n",
        "# ---- B1. Normalize to a Dataset with variables: NDVI, B02, B03, B04, B08\n",
        "def to_band_dataset(ds):\n",
        "    # Case 1: single data variable with 'bands' dimension\n",
        "    # (e.g., variable name 'array' with dims ('t','bands','y','x') or ('t','bands','x','y'))\n",
        "    main = None\n",
        "    for v in ds.data_vars:\n",
        "        if \"bands\" in ds[v].dims:\n",
        "            main = ds[v]\n",
        "            break\n",
        "    if main is not None:\n",
        "        # Decode band names; they may be bytes/integers\n",
        "        band_labels = [str(b) for b in main.coords[\"bands\"].values]\n",
        "        # Some back-ends store original band names like 'B02','B03',...,'NDVI'\n",
        "        out = {}\n",
        "        for b in band_labels:\n",
        "            out[b] = main.sel(bands=b).drop_vars(\"bands\")\n",
        "        return xr.Dataset(out)\n",
        "\n",
        "    # Case 2: already separate variables per band\n",
        "    return ds\n",
        "\n",
        "bds = to_band_dataset(ds)\n",
        "\n",
        "# Sanity: ensure NDVI exists; if not, compute from B08/B04\n",
        "if \"NDVI\" not in bds:\n",
        "    bds[\"NDVI\"] = (bds[\"B08\"] - bds[\"B04\"]) / (bds[\"B08\"] + bds[\"B04\"])\n",
        "\n"
      ],
      "metadata": {
        "id": "c7ygUBtppNWg"
      },
      "id": "c7ygUBtppNWg",
      "execution_count": 23,
      "outputs": []
    },
    {
      "cell_type": "code",
      "source": [
        "\n",
        "# --- B2. Identify dimension names (time/y/x)\n",
        "time_dim = \"t\" if \"t\" in bds.dims else \"time\"\n",
        "y_dim = \"y\" if \"y\" in bds.dims else (\"latitude\" if \"latitude\" in bds.dims else \"y\")\n",
        "x_dim = \"x\" if \"x\" in bds.dims else (\"longitude\" if \"longitude\" in bds.dims else \"x\")\n"
      ],
      "metadata": {
        "id": "R4pqeUWpqq6p"
      },
      "id": "R4pqeUWpqq6p",
      "execution_count": 24,
      "outputs": []
    },
    {
      "cell_type": "code",
      "source": [
        "\n",
        "# --- B3. Per-pixel, whole-series metrics on NDVI\n",
        "ndvi = bds[\"NDVI\"]\n",
        "\n",
        "# Integral (AUC) over time:\n",
        "# If we resampled to exact 10-day steps, AUC ≈ sum(NDVI) * 10 (days).\n",
        "# More robust: trapezoidal rule with actual time deltas.\n",
        "t = bds[time_dim]\n",
        "# compute dt (days) between timesteps, align to mid-intervals\n",
        "dt = (t.diff(time_dim) / np.timedelta64(1, \"D\")).astype(\"float32\")\n",
        "ndvi_mid = 0.5 * (ndvi.isel({time_dim: slice(0, -1)}) + ndvi.isel({time_dim: slice(1, None)}))\n",
        "AUC = (ndvi_mid * dt.rename({time_dim: ndvi_mid[time_dim].name})).sum(dim=time_dim).rename(\"NDVI_AUC\")\n",
        "\n",
        "# Peak NDVI and day-of-year (DOY) at peak\n",
        "# NDVI maximum value (as before)\n",
        "NDVI_MAX = ndvi.max(dim=time_dim).rename(\"NDVI_MAX\")\n",
        "\n",
        "# Coordinate of the maximum per pixel (returns datetime64 at each y,x)\n",
        "peak_time = ndvi.idxmax(dim=time_dim)\n",
        "\n",
        "# If a pixel is all-NaN over time, idxmax -> NaT; handle that:\n",
        "DOY_MAX = peak_time.dt.dayofyear.fillna(-1).astype(\"int16\").rename(\"NDVI_DOY_MAX\")\n",
        "\n",
        "# Mean, Std, CV\n",
        "NDVI_MEAN = ndvi.mean(dim=time_dim).rename(\"NDVI_MEAN\")\n",
        "NDVI_STD = ndvi.std(dim=time_dim).rename(\"NDVI_STD\")\n",
        "NDVI_CV = (NDVI_STD / (NDVI_MEAN + 1e-6)).rename(\"NDVI_CV\")\n",
        "\n",
        "metrics = xr.merge([AUC, NDVI_MAX, DOY_MAX, NDVI_MEAN, NDVI_STD, NDVI_CV])\n"
      ],
      "metadata": {
        "id": "VVLziP7Iqta8"
      },
      "id": "VVLziP7Iqta8",
      "execution_count": 33,
      "outputs": []
    },
    {
      "cell_type": "code",
      "source": [
        "\n",
        "# --- B4. Per-pixel derived features from 10 m bands (examples)\n",
        "# GNDVI (Green NDVI) uses 10 m bands only: (NIR - Green)/(NIR + Green)\n",
        "GNDVI = ((bds[\"B08\"] - bds[\"B03\"]) / (bds[\"B08\"] + bds[\"B03\"])).mean(dim=time_dim).rename(\"GNDVI_MEAN\")\n",
        "\n",
        "# RGB reflectance temporal mean (useful for clustering/context)\n",
        "B02_MEAN = bds[\"B02\"].mean(dim=time_dim).rename(\"B02_MEAN\")\n",
        "B03_MEAN = bds[\"B03\"].mean(dim=time_dim).rename(\"B03_MEAN\")\n",
        "B04_MEAN = bds[\"B04\"].mean(dim=time_dim).rename(\"B04_MEAN\")\n",
        "\n",
        "features = xr.merge([metrics, GNDVI, B02_MEAN, B03_MEAN, B04_MEAN])\n",
        "\n",
        "# --- B5. Per-pixel unsupervised clustering (MiniBatchKMeans)\n",
        "# Stack y/x -> pixels; sample to fit centers, then predict for all pixels.\n",
        "n_clusters = 4\n",
        "feat_names = [\"NDVI_AUC\",\"NDVI_MAX\",\"NDVI_CV\",\"GNDVI_MEAN\",\"B02_MEAN\",\"B03_MEAN\",\"B04_MEAN\"]\n",
        "F = features[feat_names].to_array().transpose(..., y_dim, x_dim)  # dims: variable, y, x\n",
        "F2d = F.stack(pixel=(y_dim, x_dim)).transpose(\"pixel\",\"variable\")  # pixels x variables\n",
        "F2d = F2d.astype(\"float32\").fillna(0.0)\n",
        "\n",
        "# Subsample for fitting (e.g., 200k pixels)\n",
        "sample = F2d.isel(pixel=slice(0, min(200_000, F2d.sizes[\"pixel\"]))).compute()\n",
        "km = MiniBatchKMeans(n_clusters=n_clusters, random_state=0, batch_size=2048, n_init=\"auto\")\n",
        "km.fit(sample.values)\n",
        "\n",
        "# Predict for all pixels in chunks\n",
        "labels = []\n",
        "chunk = 2_000_000\n",
        "for i in range(0, F2d.sizes[\"pixel\"], chunk):\n",
        "    block = F2d.isel(pixel=slice(i, min(i+chunk, F2d.sizes[\"pixel\"]))).compute()\n",
        "    labels.append(km.predict(block.values))\n",
        "import numpy as np\n",
        "labels = np.concatenate(labels).astype(\"int16\")\n",
        "\n",
        "clusters = xr.DataArray(labels, dims=[\"pixel\"], coords={\"pixel\": F2d[\"pixel\"]})\\\n",
        "           .unstack(\"pixel\").rename(\"QUALITY_CLUSTER\")\n"
      ],
      "metadata": {
        "id": "hXJSaVXSqvmS"
      },
      "id": "hXJSaVXSqvmS",
      "execution_count": 34,
      "outputs": []
    },
    {
      "cell_type": "code",
      "source": [
        "\n",
        "# --- B6. Merge and write out results (NetCDF and GeoTIFFs)\n",
        "out = xr.merge([features, clusters])\n",
        "\n",
        "# Preserve georeferencing & CRS if present\n",
        "# If the dataset already has spatial reference attributes, rioxarray can carry them through.\n",
        "if hasattr(ndvi, \"rio\"):\n",
        "    try:\n",
        "        out = out.rio.write_crs(ndvi.rio.crs or \"EPSG:4326\", inplace=False)\n",
        "    except Exception:\n",
        "        pass\n",
        "\n",
        "# NetCDF\n",
        "out.to_netcdf(\"local_per_pixel_metrics_and_clusters.nc\")\n",
        "\n",
        "# Example GeoTIFF exports (per-pixel rasters)\n",
        "out[\"NDVI_AUC\"].rio.to_raster(\"NDVI_AUC.tif\")\n",
        "out[\"NDVI_MAX\"].rio.to_raster(\"NDVI_MAX.tif\")\n",
        "out[\"QUALITY_CLUSTER\"].rio.to_raster(\"QUALITY_CLUSTER.tif\")"
      ],
      "metadata": {
        "id": "MEdsuCxkqxUK"
      },
      "id": "MEdsuCxkqxUK",
      "execution_count": 35,
      "outputs": []
    }
  ],
  "metadata": {
    "kernelspec": {
      "display_name": "Python 3",
      "language": "python",
      "name": "python3"
    },
    "language_info": {
      "name": "python",
      "version": "3.10"
    },
    "colab": {
      "provenance": []
    }
  },
  "nbformat": 4,
  "nbformat_minor": 5
}