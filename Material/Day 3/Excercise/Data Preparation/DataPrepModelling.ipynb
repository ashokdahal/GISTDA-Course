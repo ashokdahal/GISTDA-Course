{
 "cells": [
  {
   "cell_type": "markdown",
   "metadata": {},
   "source": [
    "# Download the Images Prepared in Google Earth Engine"
   ]
  },
  {
   "cell_type": "code",
   "execution_count": null,
   "metadata": {},
   "outputs": [],
   "source": [
    "!mkdir Prichit\n",
    "!wget  https://zenodo.org/records/12723317/files/Image.tif?download=1  -O Prichit/Image.tif\n",
    "!wget  https://zenodo.org/records/12723317/files/GT.gpkg?download=1 -O Prichit/GT.gpkg"
   ]
  },
  {
   "cell_type": "markdown",
   "metadata": {},
   "source": [
    "# Install necessary packages"
   ]
  },
  {
   "cell_type": "code",
   "execution_count": null,
   "metadata": {},
   "outputs": [],
   "source": [
    "!pip install rasterio"
   ]
  },
  {
   "cell_type": "markdown",
   "metadata": {},
   "source": [
    "# Import the libraries"
   ]
  },
  {
   "cell_type": "code",
   "execution_count": null,
   "metadata": {},
   "outputs": [],
   "source": [
    "import numpy as np\n",
    "import rasterio\n",
    "from rasterio.plot import show\n",
    "import matplotlib.pyplot as plt\n",
    "import geopandas as gpd\n",
    "from rasterio import features\n",
    "from tqdm.notebook import tqdm"
   ]
  },
  {
   "cell_type": "markdown",
   "metadata": {},
   "source": [
    "**Load the Enviromental Factors downloaded directory and check it for its properties as well as quality**"
   ]
  },
  {
   "cell_type": "code",
   "execution_count": null,
   "metadata": {},
   "outputs": [],
   "source": [
    "src = rasterio.open(\"Prichit/Factors.tif\")\n",
    "img = src.read()\n",
    "img.shape"
   ]
  },
  {
   "cell_type": "code",
   "execution_count": null,
   "metadata": {},
   "outputs": [],
   "source": [
    "img_vis = img[1, :, :]"
   ]
  },
  {
   "cell_type": "code",
   "execution_count": null,
   "metadata": {},
   "outputs": [],
   "source": [
    "fig, ax = plt.subplots(1, figsize=(12, 12))\n",
    "show(img_vis, transform=src.transform, ax=ax)\n",
    "ax.ticklabel_format(useOffset=False, style=\"plain\")"
   ]
  },
  {
   "cell_type": "markdown",
   "metadata": {},
   "source": [
    "**Load Ground Truth Data**"
   ]
  },
  {
   "cell_type": "code",
   "execution_count": null,
   "metadata": {},
   "outputs": [],
   "source": [
    "GroundTruth = gpd.read_file(\"Prichit/GT.gpkg\").to_crs(epsg=4326)"
   ]
  },
  {
   "cell_type": "markdown",
   "metadata": {},
   "source": [
    "**Visualize it together with the enviromental factors**"
   ]
  },
  {
   "cell_type": "code",
   "execution_count": null,
   "metadata": {},
   "outputs": [],
   "source": [
    "fig, ax = plt.subplots(1, figsize=(12, 12))\n",
    "show(img_vis, transform=src.transform, ax=ax)\n",
    "ax.ticklabel_format(useOffset=False, style=\"plain\")\n",
    "GroundTruth.plot(ax=ax, color=\"none\", edgecolor=\"blue\", hatch=\"//\")"
   ]
  },
  {
   "cell_type": "markdown",
   "metadata": {},
   "source": [
    "**This shows that our image and training dataset have same extent in most of the cases. Now, lets convert the ground truth into an image such that we can use it to train the model.**"
   ]
  },
  {
   "cell_type": "code",
   "execution_count": null,
   "metadata": {},
   "outputs": [],
   "source": [
    "shapes = ((geom, 1) for geom in GroundTruth.geometry)\n",
    "raster_GT = features.rasterize(\n",
    "    shapes=shapes, fill=0, out_shape=img[0].shape, transform=src.transform\n",
    ")"
   ]
  },
  {
   "cell_type": "code",
   "execution_count": null,
   "metadata": {},
   "outputs": [],
   "source": [
    "fig, ax = plt.subplots(1, figsize=(12, 12))\n",
    "show(raster_GT, transform=src.transform, ax=ax)\n",
    "ax.ticklabel_format(useOffset=False, style=\"plain\")"
   ]
  },
  {
   "cell_type": "markdown",
   "metadata": {},
   "source": [
    "**Now make them Xdata and Ydata**"
   ]
  },
  {
   "cell_type": "code",
   "execution_count": null,
   "metadata": {},
   "outputs": [],
   "source": [
    "XData = img.transpose((1, 2, 0))\n",
    "YData = np.expand_dims(raster_GT, -1)"
   ]
  },
  {
   "cell_type": "markdown",
   "metadata": {},
   "source": [
    "**Lets create small patches for mapping**"
   ]
  },
  {
   "cell_type": "code",
   "execution_count": null,
   "metadata": {},
   "outputs": [],
   "source": [
    "PATCHSIZE = 32\n",
    "NBANDS = XData.shape[-1]\n",
    "\n",
    "def gridwise_sample(ximg, yimg, patchsize):\n",
    "    \"\"\"Extract sample patches of size patchsize x patchsize from an image (imgarray) in a gridwise manner.\"\"\"\n",
    "    nrows, ncols, nbands = ximg.shape\n",
    "    first = True\n",
    "    for i in tqdm(range(int(nrows / patchsize))):\n",
    "        for j in range(int(ncols / patchsize)):\n",
    "            xpatch = ximg[\n",
    "                i * patchsize : (i + 1) * patchsize,\n",
    "                j * patchsize : (j + 1) * patchsize,\n",
    "                :,\n",
    "            ]\n",
    "            ypatch = yimg[\n",
    "                i * patchsize : (i + 1) * patchsize,\n",
    "                j * patchsize : (j + 1) * patchsize,\n",
    "                :,\n",
    "            ]\n",
    "            xpatch = np.expand_dims(xpatch, axis=0)\n",
    "            ypatch = np.expand_dims(ypatch, axis=0)\n",
    "            if not (np.any(np.isnan(xpatch)) or np.any(np.isnan(ypatch))):\n",
    "                if first:\n",
    "                    xpatches,ypatches = xpatch,ypatch\n",
    "                    first = False\n",
    "                else:\n",
    "                    xpatches = np.concatenate((xpatches, xpatch), axis=0)\n",
    "                    ypatches = np.concatenate((ypatches, ypatch), axis=0)\n",
    "    return xpatches,ypatches\n",
    "\n",
    "\n",
    "XPatches,YPatches = gridwise_sample(XData,YData, PATCHSIZE)\n",
    "\n",
    "print(\"There are %i number of image patches\" % (XPatches.shape[0]))"
   ]
  },
  {
   "cell_type": "markdown",
   "metadata": {},
   "source": [
    "**Let's Do some Sanity Check**"
   ]
  },
  {
   "cell_type": "code",
   "execution_count": null,
   "metadata": {},
   "outputs": [],
   "source": [
    "n = 155  # sample number\n",
    "fig, ax = plt.subplots(1, 2, figsize=(12, 6))\n",
    "ax[0].imshow(XPatches[n, :, :, 3])\n",
    "ax[1].imshow(YPatches[n, :, :, 0])\n",
    "\n",
    "ax[0].ticklabel_format(useOffset=False, style=\"plain\")\n",
    "ax[1].ticklabel_format(useOffset=False, style=\"plain\")"
   ]
  },
  {
   "cell_type": "markdown",
   "metadata": {},
   "source": [
    "**Save them into numpy array**"
   ]
  },
  {
   "cell_type": "code",
   "execution_count": null,
   "metadata": {},
   "outputs": [],
   "source": [
    "np.save(\"Prichit/XData.npy\", XPatches)\n",
    "np.save(\"Prichit/YData.npy\", YPatches)"
   ]
  },
  {
   "cell_type": "code",
   "execution_count": null,
   "metadata": {},
   "outputs": [],
   "source": []
  }
 ],
 "metadata": {
  "kernelspec": {
   "display_name": "dlgeo",
   "language": "python",
   "name": "python3"
  },
  "language_info": {
   "codemirror_mode": {
    "name": "ipython",
    "version": 3
   },
   "file_extension": ".py",
   "mimetype": "text/x-python",
   "name": "python",
   "nbconvert_exporter": "python",
   "pygments_lexer": "ipython3",
   "version": "3.10.0"
  }
 },
 "nbformat": 4,
 "nbformat_minor": 2
}
